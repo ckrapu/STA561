{
 "cells": [
  {
   "cell_type": "code",
   "execution_count": 298,
   "metadata": {
    "collapsed": false
   },
   "outputs": [],
   "source": [
    "from collections import Counter\n",
    "import csv\n",
    "import descartes\n",
    "import fiona\n",
    "import gensim\n",
    "from geopandas import GeoDataFrame\n",
    "import geopy\n",
    "from IPython.display import Image\n",
    "from IPython.display import display\n",
    "import lda\n",
    "import logging\n",
    "import matplotlib\n",
    "from matplotlib.colors import LinearSegmentedColormap\n",
    "import matplotlib.pyplot as plt\n",
    "from mpl_toolkits import basemap\n",
    "import mpl_toolkits\n",
    "import numpy as np\n",
    "import pandas as pd\n",
    "import pickle\n",
    "from pprint import pprint\n",
    "import pyper as pr\n",
    "import shapely\n",
    "import sys\n",
    "\n",
    "%matplotlib inline\n"
   ]
  },
  {
   "cell_type": "code",
   "execution_count": 221,
   "metadata": {
    "collapsed": true
   },
   "outputs": [],
   "source": [
    "def csv2ListOfLists(filename,delimiter='\\t'):\n",
    "    data = [];\n",
    "    with open(filename,'rb')as dataFile:\n",
    "        dataReader = csv.reader(dataFile, delimiter=delimiter, quotechar='|')\n",
    "        counter = 0\n",
    "        for i,row in enumerate(dataReader):\n",
    "            temporaryRow = []\n",
    "            for j,entry in enumerate(row):\n",
    "                temporaryRow.append(entry) \n",
    "            data.append(temporaryRow)\n",
    "        dataFile.close()\n",
    "    return data\n",
    "        \n",
    "            \n"
   ]
  },
  {
   "cell_type": "markdown",
   "metadata": {},
   "source": [
    "<h2>Step 1 -  Preprocessing the database and converting it to a term-frequency matrix </h2>\n",
    "\n",
    "<p>We've got a database of species observations downloaded from GBIF.org and it's in CSV format with a bunch of extraneous information. We eventually need to convert this into a term-frequency matrix which indicates the presence or absence of a recorded observation of a given species at a certain location. We'd like to first clean out some stuff that we don't need. We'll need to perform the following steps: </p>\n",
    "\n",
    "<ul>\n",
    "<li>Load the database into a pandas dataframe</li>\n",
    "<li>Drop any columns which we don't need for this project</li>\n",
    "<li>Filter out any observations which are not recorded at the 'species' taxonomy level</li>\n",
    "<li>Filter out any observations which cannot be georeferenced to a grid cell of 1 square kilometer or smaller, i.e. the uncertainty radius is too big</li>\n",
    "</ul>\n",
    "\n"
   ]
  },
  {
   "cell_type": "code",
   "execution_count": 3,
   "metadata": {
    "collapsed": false
   },
   "outputs": [],
   "source": [
    "# WARNING! THIS STEP TAKES A LONG TIME ESPECIALLY IF YOU HAVE A SLOW HD!\n",
    "\n",
    "# We will print off a lot of info to a log file so we can make sure everything is going smoothly and debug if we need.\n",
    "logFile = 'log.txt'\n",
    "logging.basicConfig(filename=logFile,level=logging.INFO)\n",
    "\n",
    "# The following line takes a CSV filename in the current directory and reads it as a list of lists\n",
    "# Normally we would want to do a direct import with read_csv and pandas, but there is an error that fires off when we try that.\n",
    "logging.info(\"Loading list of lists from CSV file\")\n",
    "occurrenceArray = csv2ListOfLists('occurrence.txt')\n"
   ]
  },
  {
   "cell_type": "code",
   "execution_count": 4,
   "metadata": {
    "collapsed": true
   },
   "outputs": [],
   "source": [
    "# The first list in the list of lists 'occurrenceArray' contains the column name information.\n",
    "# We'll use that info to name the columns in the pandas dataframe.\n",
    "logging.info(\"Converting list of lists to pandas dataframe\")\n",
    "rawOccurrenceDF = pd.DataFrame(occurrenceArray[1:],columns = occurrenceArray[0])\n",
    "\n",
    "\n",
    "# Let's also keep track of how many records were initially in this database.\n",
    "rawRecordCount = rawOccurrenceDF.shape[0]\n",
    "\n",
    "# We need to indicate which columns from this database we'd like to keep and discard the rest.\n",
    "columnsToKeep = ['id','verbatimCoordinates','decimalLatitude','decimalLongitude','scientificName','taxonRank','coordinateUncertaintyInMeters']\n",
    "\n",
    "# And we will do an in-place replacement with a reduced pandas dataframe\n",
    "logging.info(\"\\n Dropping unwanted database fields... \\n\")\n",
    "occurrenceDF = rawOccurrenceDF[columnsToKeep]\n",
    "\n",
    "# Our next step is to eliminate any observation records which do not have a taxonomic rank of \"Species\".\n",
    "logging.info(\"\\n Filtering records based on taxon rank... \\n\")\n",
    "occurrenceDF = occurrenceDF.query('(taxonRank == \"Species\")')\n",
    "\n",
    "# We would also like to eliminate any records in which the uncertainty estimate of location is greater than 1 kilometer.\n",
    "logging.info(\"\\n Culling records with uncertainty >1000 m. in observation location... \\n\")\n",
    "occurrenceDF= occurrenceDF[occurrenceDF.coordinateUncertaintyInMeters.apply(float) <= 1001.0]\n",
    "\n",
    "processedRecordCount = occurrenceDF.shape[0]\n",
    "\n",
    "# It would be nice to see some statistics regarding how many records we dropped.\n",
    "logging.info(\"\\nOut of {:d} records downloaded, {:d} were dropped and {:d} remain in the database.\".format(rawRecordCount,processedRecordCount,rawRecordCount-processedRecordCount))\n"
   ]
  },
  {
   "cell_type": "markdown",
   "metadata": {},
   "source": [
    "<h2>Step 2 -  Converting the database to a term-frequency matrix </h2>\n",
    "\n",
    "<p>Now that the data is cleaned up, we can apply a transformation which will give us a new dataframe in which the row index denotes physical location and the column denotes species presence/absence. Thankfully, pandas has functionality which makes this very easy. </p>\n"
   ]
  },
  {
   "cell_type": "code",
   "execution_count": 7,
   "metadata": {
    "collapsed": false
   },
   "outputs": [],
   "source": [
    "# First, we need to get a list of spatially unique physical locations and also a list of unique species\n",
    "uniqueLocations = pd.unique(occurrenceDF.verbatimCoordinates.ravel())\n",
    "uniqueSpecies = pd.unique(occurrenceDF.scientificName.ravel())\n",
    "\n",
    "# We'll create a new dataframe with the two lists above as the row and column indices\n",
    "logging.info(\"\\n Creating tf dataframe... \\n\")\n",
    "termFrequencyDF = pd.DataFrame(index = uniqueLocations, columns = uniqueSpecies)\n",
    "termFrequencyDF = termFrequencyDF.fillna(0) # Normally, empty values are initalized to NaN but we want the empties to be set to zero.\n",
    "\n",
    "\n",
    "\n",
    "# Here, we loop over the occurrence dataframe and populate the term frequency dataframe with the information from the former.\n",
    "logging.info(\"\\n Filling tf frame with species info \\n\")\n",
    "for tup in occurrenceDF[['verbatimCoordinates','scientificName']].itertuples(index=False):\n",
    "    termFrequencyDF[tup[1]][tup[0]] += 1\n",
    "    \n",
    "# The entries in the tf frame are counts, but we really only want presence or absence so we are going to create a new frame with 1s and 0s.\n",
    "presenceDF = termFrequencyDF.clip(upper=1)\n"
   ]
  },
  {
   "cell_type": "markdown",
   "metadata": {},
   "source": [
    "<h2>Step 3 - Finding an optimal number of communities via model selection</h2>\n",
    "<p>Our next step is to use a package written in R by Matthew Taddy at U.Chicago to identify a best setting for the number of communities in our data set, i.e. to find the proper number of topics in latent Dirichlet allocation. I'd recommend giving his arxiv preprint a read: http://arxiv.org/abs/1109.4518 . We are going to use a python package called Pyper to call out to an R process and run the R code before extracting the information that we want regarding the best number of communities and some diagnostic info regarding this optimization process. </p>\n",
    "\n",
    "\n",
    "\n",
    "\n"
   ]
  },
  {
   "cell_type": "code",
   "execution_count": 134,
   "metadata": {
    "collapsed": false,
    "scrolled": true
   },
   "outputs": [
    {
     "name": "stdout",
     "output_type": "stream",
     "text": [
      "try({summary(simselect <- topics(matrix, K=seq(2,40)), nwrd=0)})\n",
      "\n",
      "Estimating on a 12723 document collection.\n",
      "Fit and Bayes Factor Estimation for K = 2 ... 40\n",
      "log posterior increase: 3967.5, done.\n",
      "log BF( 2 ) = 141187.32\n",
      "log posterior increase: 51299.8, done.\n",
      "log BF( 3 ) = 253040.54\n",
      "log posterior increase: 22698.6, done.\n",
      "log BF( 4 ) = 312046.32\n",
      "log posterior increase: 19937.4, 1370.3, done.\n",
      "log BF( 5 ) = 392405.79\n",
      "log posterior increase: 9711.2, 1022.2, done.\n",
      "log BF( 6 ) = 427097.44\n",
      "log posterior increase: 9287.5, 807.9, done.\n",
      "log BF( 7 ) = 457625.74\n",
      "log posterior increase: 8611.8, 470.9, done.\n",
      "log BF( 8 ) = 481101.96\n",
      "log posterior increase: 7802.5, 1111.1, done.\n",
      "log BF( 9 ) = 505494\n",
      "log posterior increase: 6684.3, 302.2, done.\n",
      "log BF( 10 ) = 526960.74\n",
      "log posterior increase: 6440.4, 411.8, done.\n",
      "log BF( 11 ) = 538404.01\n",
      "log posterior increase: 5867.8, 441.2, 321.8, done.\n",
      "log BF( 12 ) = 550324.99\n",
      "log posterior increase: 6000.6, 537.8, 223.9, done.\n",
      "log BF( 13 ) = 566334.38\n",
      "log posterior increase: 5348.9, 494.9, 453.1, 210.8, done.\n",
      "log BF( 14 ) = 582063.81\n",
      "log posterior increase: 4919.1, 269.1, done.\n",
      "log BF( 15 ) = 600392.24\n",
      "log posterior increase: 4685.2, 386.2, 332.2, 239.1, done.\n",
      "log BF( 16 ) = 609140.38\n",
      "log posterior increase: 4635.4, 257.7, 149.3, done.\n",
      "log BF( 17 ) = 625219.38\n",
      "log posterior increase: 4128.7, 513.7, 231, 134.1, done.\n",
      "log BF( 18 ) = 631804.81\n",
      "log posterior increase: 4169.2, 223.8, 117, done.\n",
      "log BF( 19 ) = 642167.84\n",
      "log posterior increase: 4063.3, 262.7, 128, done.\n",
      "log BF( 20 ) = 643955.82\n",
      "log posterior increase: 3863.8, 210.1, 127.5, 131.6, done.\n",
      "log BF( 21 ) = 643053.13\n",
      "log posterior increase: 3654.8, 225.4, 123.2, 87.6, done.\n",
      "log BF( 22 ) = 649508.5\n",
      "log posterior increase: 3730.6, 200.7, 96.8, done.\n",
      "log BF( 23 ) = 649174.51\n",
      "log posterior increase: 3461.2, 215, 113.1, 295.9, done.\n",
      "log BF( 24 ) = 646361.96\n",
      "\n",
      "Log Bayes factor and estimated dispersion, by number of topics:\n",
      "\n",
      "              2        3        4         5         6         7         8\n",
      "logBF 141187.32 253040.5 312046.3 392405.79 427097.44 457625.74 481101.96\n",
      "Disp       2.42      2.9      2.7      2.58      2.15      2.05      1.81\n",
      "              9        10        11        12        13        14       15\n",
      "logBF 505494.00 526960.74 538404.01 550324.99 566334.38 582063.81 600392.2\n",
      "Disp       1.95      1.69      1.69      1.65      1.64      1.67      1.6\n",
      "             16        17        18        19        20        21        22\n",
      "logBF 609140.38 625219.38 631804.81 642167.84 643955.82 643053.13 649508.50\n",
      "Disp       1.62      1.53      1.57      1.47      1.48      1.44      1.43\n",
      "             23        24\n",
      "logBF 649174.51 646361.96\n",
      "Disp       1.42      1.45\n",
      "\n",
      "Selected the K = 22 topic model\n",
      "\n",
      "\n"
     ]
    }
   ],
   "source": [
    "# WARNING! This cell also takes a long time to run because of the model selection scheme in R.\n",
    "# We want to examine a wide range of possible community numbers, i.e. K, but this is computationally expensive.\n",
    "\n",
    "# First, let's initalize an instance of R which is controlled by the Python kernel via pyper.\n",
    "r = pr.R()\n",
    "\n",
    "# Pyper can send data back and forth via frames or matrices but we're going to use a file drop because it will be much faster.\n",
    "dropFilename = 'presenceMatrixForR.csv'\n",
    "presenceDF.to_csv(dropFilename,delimiter = ',',header=False,index=False)\n",
    "\n",
    "# maptpx is the name of the R package we'll use.\n",
    "r('library(maptpx)')\n",
    "r('presence<-read.table(\\'/home/chris/Dropbox/Public/LDA_project/project_repository/creative/' + dropFilename + '\\',sep=\\',\\')')\n",
    "r('matrix <- data.matrix(presence)')\n",
    "\n",
    "# In this scenario, we'll search from possible community numbers from 2 to 40 but this can be adjusted.\n",
    "logging.info(\"\\n Performing model selection... \\n\")\n",
    "outputString = r('summary(simselect <- topics(matrix, K=seq(2,40)), nwrd=0)')\n",
    "\n",
    "# This extracts the optimal number of communities K per the model selection scheme.\n",
    "K = r.get('simselect$K')\n",
    "logging.info(\"\\n The optimal number of communities was identified to be + \" + str(K) + \".\\n\") \n",
    "\n",
    "print outputString\n"
   ]
  },
  {
   "cell_type": "markdown",
   "metadata": {},
   "source": [
    "<h2>Step 4 - Performing hyperparameter optimization using Gensim</h2>\n",
    "<p> While many previous works in applied topic modeling were unconcerned about settings of the priors alpha and eta, Hanna Wallach made a strong case for investigating how they are chosen in a 2009 paper. Check it out here if you're interested: https://people.cs.umass.edu/~wallach/publications/wallach09rethinking.pdf. We're going to use a topic modeling package which can learn the best LDA hyperparameter / prior settings directly from the data with Gensim per the recommendations from that paper.  </p>\n",
    "\n"
   ]
  },
  {
   "cell_type": "code",
   "execution_count": 135,
   "metadata": {
    "collapsed": false
   },
   "outputs": [
    {
     "name": "stderr",
     "output_type": "stream",
     "text": [
      "WARNING:gensim.models.ldamodel:no word id mapping provided; initializing from corpus, assuming identity\n"
     ]
    }
   ],
   "source": [
    "# Gensim has its own corpus format that we need to convert to from a numpy matrix / pandas dataframe\n",
    "presenceGS = gensim.matutils.Dense2Corpus(np.copy(presenceDF.values), documents_columns=False)\n",
    "model = gensim.models.ldamodel.LdaModel(corpus=presenceGS, num_topics=K, distributed=False, alpha='auto', eta='auto', iterations = 20, passes = 2, minimum_probability = 0.001)\n",
    "\n",
    "# Let's also extract the parameter matrices that were estimated.\n",
    "# This pulls out the set of location-community distributions, commonly referred to in the literature as theta.\n",
    "theta =  gensim.matutils.corpus2dense(model[presenceGS],model.num_topics)\n",
    "\n",
    "# And here's the unnormalized community-species distributions.\n",
    "phi = model.expElogbeta\n",
    "\n",
    "# As the final step, we extract the inferred hyperparameters so we can use them in other LDA runs.\n",
    "alpha = model.alpha\n",
    "eta = model.eta"
   ]
  },
  {
   "cell_type": "markdown",
   "metadata": {},
   "source": [
    "<h2>Step 5 - Analyzing communities-species and location-community relationships</h2>\n",
    "<p>In the previous code block we ran an inference routine (variational expectation maximization as an implementation of the methods outlined by Hoffman et al. 2010 at http://www.cs.princeton.edu/~blei/papers/HoffmanBleiBach2010b.pdf) to identify optimal settings of the hyperparameters alpha and eta. We also identified lots of interesting structure so let's take a look at the spatial distributions of the communities we identified as well as the indicator species which each community contains. </p>"
   ]
  },
  {
   "cell_type": "code",
   "execution_count": 188,
   "metadata": {
    "collapsed": false
   },
   "outputs": [],
   "source": [
    "# The first thing we are going to do is rewrite the parameters that we got into pandas dataframes so we can see which species are most important for each community.\n",
    "speciesCommunityDF = pd.DataFrame(data = phi, index = [str(i) for i in range(1,K+1)],columns = presenceDF.columns.values)\n",
    "\n",
    "# We will do the same for the community-location parameters.\n",
    "communityLocationDF = pd.DataFrame(data = theta.transpose(), index = presenceDF.index.values, columns = ['community'+str(i) for i in range(1,K+1)])\n",
    "\n",
    "# To make spatial plots of community prominence, we need to join tables.\n",
    "# The next line is tricky - we're going to merge with occurrenceDF but we don't need all 3 million records. We only want the unique plot ID values and the corresponding spatial coordinates.\n",
    "communityLocationDF = pd.merge(communityLocationDF,occurrenceDF.drop_duplicates(subset=['verbatimCoordinates']),right_on='verbatimCoordinates',how='left',left_index=True)\n",
    "\n",
    "# We should also get rid of unnecessary columns which got merged from the occurrence dataframe.\n",
    "communityLocationDF = communityLocationDF.drop(['id','coordinateUncertaintyInMeters','scientificName','taxonRank'],axis=1)\n",
    "communityLocationDF = communityLocationDF.set_index('verbatimCoordinates')\n",
    "\n",
    "# While we're at it, let's make a new directory for our dataframes and save them in case we want to come back later and skip all the busywork.\n",
    "! mkdir dataframes\n",
    "dfFilenames = ['speciesCommunityDF','communityLocationDF','termFrequencyDF','occurrenceDF']\n",
    "for i,frame in enumerate([speciesCommunityDF,communityLocationDF,termFrequencyDF,occurrenceDF]):\n",
    "    frame.to_csv('dataframes/'+dfFilenames[i]+'.csv')"
   ]
  },
  {
   "cell_type": "markdown",
   "metadata": {},
   "source": [
    "<h2>A brief interlude</h2>\n",
    "<p> It's time to save our significant work so far, namely the pandas dataframes which we've been making up until now. </p>"
   ]
  },
  {
   "cell_type": "code",
   "execution_count": 313,
   "metadata": {
    "collapsed": false
   },
   "outputs": [
    {
     "name": "stdout",
     "output_type": "stream",
     "text": [
      "mkdir: cannot create directory ‘dataframes’: File exists\r\n"
     ]
    }
   ],
   "source": [
    "# While we're at it, let's make a new directory for our dataframes and save them in case we want to come back later and skip all the busywork.\n",
    "! mkdir dataframes\n",
    "dfFilenames = ['speciesCommunityDF','communityLocationDF','termFrequencyDF','occurrenceDF']\n",
    "for i,frame in enumerate([speciesCommunityDF,communityLocationDF,termFrequencyDF,occurrenceDF]):\n",
    "    frame.to_csv('dataframes/'+dfFilenames[i]+'.csv')"
   ]
  },
  {
   "cell_type": "markdown",
   "metadata": {},
   "source": [
    "<h2>Step 5a - Projecting geospatial data and plotting it with matplotlib </h2>\n",
    "\n",
    "<p>Things are about to get crazy. The projection and plotting will follow along the lines of the workflows described here: https://peak5390.wordpress.com/2012/12/08/matplotlib-basemap-tutorial-plotting-points-on-a-simple-map/ and also from the mpl homepage http://matplotlib.org/basemap/users/examples.html. </p>"
   ]
  },
  {
   "cell_type": "code",
   "execution_count": 299,
   "metadata": {
    "collapsed": false
   },
   "outputs": [
    {
     "data": {
      "text/plain": [
       "[<IPython.core.display.Image object>,\n",
       " <IPython.core.display.Image object>,\n",
       " <IPython.core.display.Image object>,\n",
       " <IPython.core.display.Image object>,\n",
       " <IPython.core.display.Image object>,\n",
       " <IPython.core.display.Image object>,\n",
       " <IPython.core.display.Image object>,\n",
       " <IPython.core.display.Image object>,\n",
       " <IPython.core.display.Image object>,\n",
       " <IPython.core.display.Image object>,\n",
       " <IPython.core.display.Image object>,\n",
       " <IPython.core.display.Image object>,\n",
       " <IPython.core.display.Image object>,\n",
       " <IPython.core.display.Image object>,\n",
       " <IPython.core.display.Image object>,\n",
       " <IPython.core.display.Image object>,\n",
       " <IPython.core.display.Image object>,\n",
       " <IPython.core.display.Image object>,\n",
       " <IPython.core.display.Image object>,\n",
       " <IPython.core.display.Image object>,\n",
       " <IPython.core.display.Image object>,\n",
       " <IPython.core.display.Image object>]"
      ]
     },
     "metadata": {},
     "output_type": "display_data"
    },
    {
     "data": {
      "image/png": "[encoded data removed]",
      "text/plain": [
       "<matplotlib.figure.Figure at 0x7fe400998610>"
      ]
     },
     "metadata": {},
     "output_type": "display_data"
    }
   ],
   "source": [
    "\n",
    "fig = plt.figure(figsize=(10,5))\n",
    "ax=fig.add_axes([0.1,0.1,0.8,0.8])\n",
    "\n",
    "# We are going to use the Basemap class from the matplotlib toolkits library.\n",
    "# The extent of our map is going to be over the latitudes/longitudes in which there is data.\n",
    "\n",
    "lowerLeftCornerLongitude  = min([float(i) for i in communityLocationDF['decimalLongitude'].values])-.1\n",
    "lowerLeftCornerLatitude   = min([float(i) for i in communityLocationDF['decimalLatitude'].values])-.1\n",
    "upperRightCornerLongitude = max([float(i) for i in communityLocationDF['decimalLongitude'].values])+.1\n",
    "upperRightCornerLatitude  = max([float(i) for i in communityLocationDF['decimalLatitude'].values])+.1\n",
    "\n",
    "# The projection we want to use is the Mercator projection.\n",
    "# Rendering all of this is highly dependent on the resolution.\n",
    "# The resolution can be changed to 'l' if this generates too slowly.\n",
    "map = basemap.Basemap(projection='merc',\n",
    "                      llcrnrlon=lowerLeftCornerLongitude,\n",
    "                      llcrnrlat=lowerLeftCornerLatitude,\n",
    "                      urcrnrlon=upperRightCornerLongitude,\n",
    "                      urcrnrlat=upperRightCornerLatitude,\n",
    "                      resolution='f')\n",
    "map.drawcoastlines(linewidth=0.25)\n",
    "map.drawcountries(linewidth=0.5)\n",
    "map.fillcontinents(color='lightblue',lake_color='aqua',zorder=0)\n",
    "map.drawmapboundary(fill_color='aqua')\n",
    "map.drawparallels(np.arange(lowerLeftCornerLatitude,upperRightCornerLatitude,.2),labels=[1,0,0,0], linewidth=0.0)\n",
    "map.drawmeridians(np.arange(lowerLeftCornerLongitude,upperRightCornerLongitude,.5),labels=[0,0,0,1], linewidth=0.0)\n",
    "\n",
    "\n",
    "# To visualize the prominence of communities across space, we're going to make our own sort-of colormap.\n",
    "# It won't be a real colormap; we're just messing with the alpha values. Higher prominence means higher alpha.\n",
    "rgbaColors = np.zeros((len(alphas),4))\n",
    "rgbaColors[:,1] = 0.5\n",
    "\n",
    "# These are the latitude-longitude coordinates.\n",
    "x = [float(i) for i in communityLocationDF['decimalLongitude'].values]\n",
    "y = [float(i) for i in communityLocationDF['decimalLatitude'].values]\n",
    "\n",
    "# This array will hold a list of ipython image objects so we can show the plots in Ipython quickly later.\n",
    "ipythonImages = []\n",
    "\n",
    "# We'll also create a directory to put the saved image files in.\n",
    "! mkdir basemap_community_plots\n",
    "\n",
    "for i in range(1,K+1):\n",
    "    alphas = communityLocationDF['community'+str(i)].values\n",
    "    \n",
    "    rgbaColors[:,3] = alphas/alphas.max()\n",
    "    \n",
    "    sc = map.scatter(x,y,latlon=True,s=4,c=rgbaColors,edgecolor='')\n",
    "    plt.title('Community '+str(i))\n",
    "    plt.savefig('basemap_community_plots/community'+str(i)+'.png',dpi=1000)\n",
    "    ipythonImages.append(Image(filename='community'+str(i)+'.png'))\n",
    "    sc.remove()\n",
    "del fig\n"
   ]
  },
  {
   "cell_type": "code",
   "execution_count": null,
   "metadata": {
    "collapsed": true
   },
   "outputs": [],
   "source": []
  },
  {
   "cell_type": "code",
   "execution_count": 256,
   "metadata": {
    "collapsed": true
   },
   "outputs": [],
   "source": [
    "map.scatter?"
   ]
  },
  {
   "cell_type": "code",
   "execution_count": 288,
   "metadata": {
    "collapsed": false
   },
   "outputs": [
    {
     "data": {
      "text/plain": [
       "2.54886"
      ]
     },
     "execution_count": 288,
     "metadata": {},
     "output_type": "execute_result"
    }
   ],
   "source": [
    "min([float(i) for i in communityLocationDF['decimalLongitude'].values])"
   ]
  },
  {
   "cell_type": "code",
   "execution_count": 293,
   "metadata": {
    "collapsed": true
   },
   "outputs": [],
   "source": [
    "map.scatter?"
   ]
  },
  {
   "cell_type": "code",
   "execution_count": 300,
   "metadata": {
    "collapsed": true
   },
   "outputs": [],
   "source": [
    "display?"
   ]
  },
  {
   "cell_type": "code",
   "execution_count": 302,
   "metadata": {
    "collapsed": false,
    "scrolled": false
   },
   "outputs": [
    {
     "data": {
      "text/plain": [
       "(<IPython.core.display.Image object>,\n",
       " <IPython.core.display.Image object>,\n",
       " <IPython.core.display.Image object>,\n",
       " <IPython.core.display.Image object>,\n",
       " <IPython.core.display.Image object>,\n",
       " <IPython.core.display.Image object>,\n",
       " <IPython.core.display.Image object>,\n",
       " <IPython.core.display.Image object>,\n",
       " <IPython.core.display.Image object>,\n",
       " <IPython.core.display.Image object>,\n",
       " <IPython.core.display.Image object>,\n",
       " <IPython.core.display.Image object>,\n",
       " <IPython.core.display.Image object>,\n",
       " <IPython.core.display.Image object>,\n",
       " <IPython.core.display.Image object>,\n",
       " <IPython.core.display.Image object>,\n",
       " <IPython.core.display.Image object>,\n",
       " <IPython.core.display.Image object>,\n",
       " <IPython.core.display.Image object>,\n",
       " <IPython.core.display.Image object>,\n",
       " <IPython.core.display.Image object>,\n",
       " <IPython.core.display.Image object>)"
      ]
     },
     "metadata": {},
     "output_type": "display_data"
    }
   ],
   "source": [
    "display(tuple(ipythonImages))"
   ]
  },
  {
   "cell_type": "code",
   "execution_count": 311,
   "metadata": {
    "collapsed": false
   },
   "outputs": [
    {
     "name": "stdout",
     "output_type": "stream",
     "text": [
      "mkdir: cannot create directory ‘basemap_community_plots’: File exists\r\n"
     ]
    }
   ],
   "source": [
    "! mkdir basemap_community_plots"
   ]
  },
  {
   "cell_type": "code",
   "execution_count": 312,
   "metadata": {
    "collapsed": false
   },
   "outputs": [
    {
     "ename": "KeyboardInterrupt",
     "evalue": "",
     "output_type": "error",
     "traceback": [
      "\u001b[1;31m---------------------------------------------------------------------------\u001b[0m",
      "\u001b[1;31mKeyboardInterrupt\u001b[0m                         Traceback (most recent call last)",
      "\u001b[1;32m<ipython-input-312-09c03f067082>\u001b[0m in \u001b[0;36m<module>\u001b[1;34m()\u001b[0m\n\u001b[1;32m----> 1\u001b[1;33m \u001b[0mlocals\u001b[0m\u001b[1;33m(\u001b[0m\u001b[1;33m)\u001b[0m\u001b[1;33m\u001b[0m\u001b[0m\n\u001b[0m",
      "\u001b[1;32m/home/chris/anaconda/lib/python2.7/site-packages/IPython/core/displayhook.pyc\u001b[0m in \u001b[0;36m__call__\u001b[1;34m(self, result)\u001b[0m\n\u001b[0;32m    230\u001b[0m             \u001b[0mself\u001b[0m\u001b[1;33m.\u001b[0m\u001b[0mstart_displayhook\u001b[0m\u001b[1;33m(\u001b[0m\u001b[1;33m)\u001b[0m\u001b[1;33m\u001b[0m\u001b[0m\n\u001b[0;32m    231\u001b[0m             \u001b[0mself\u001b[0m\u001b[1;33m.\u001b[0m\u001b[0mwrite_output_prompt\u001b[0m\u001b[1;33m(\u001b[0m\u001b[1;33m)\u001b[0m\u001b[1;33m\u001b[0m\u001b[0m\n\u001b[1;32m--> 232\u001b[1;33m             \u001b[0mformat_dict\u001b[0m\u001b[1;33m,\u001b[0m \u001b[0mmd_dict\u001b[0m \u001b[1;33m=\u001b[0m \u001b[0mself\u001b[0m\u001b[1;33m.\u001b[0m\u001b[0mcompute_format_data\u001b[0m\u001b[1;33m(\u001b[0m\u001b[0mresult\u001b[0m\u001b[1;33m)\u001b[0m\u001b[1;33m\u001b[0m\u001b[0m\n\u001b[0m\u001b[0;32m    233\u001b[0m             \u001b[0mself\u001b[0m\u001b[1;33m.\u001b[0m\u001b[0mupdate_user_ns\u001b[0m\u001b[1;33m(\u001b[0m\u001b[0mresult\u001b[0m\u001b[1;33m)\u001b[0m\u001b[1;33m\u001b[0m\u001b[0m\n\u001b[0;32m    234\u001b[0m             \u001b[0mself\u001b[0m\u001b[1;33m.\u001b[0m\u001b[0mfill_exec_result\u001b[0m\u001b[1;33m(\u001b[0m\u001b[0mresult\u001b[0m\u001b[1;33m)\u001b[0m\u001b[1;33m\u001b[0m\u001b[0m\n",
      "\u001b[1;32m/home/chris/anaconda/lib/python2.7/site-packages/IPython/core/displayhook.pyc\u001b[0m in \u001b[0;36mcompute_format_data\u001b[1;34m(self, result)\u001b[0m\n\u001b[0;32m    136\u001b[0m \u001b[1;33m\u001b[0m\u001b[0m\n\u001b[0;32m    137\u001b[0m         \"\"\"\n\u001b[1;32m--> 138\u001b[1;33m         \u001b[1;32mreturn\u001b[0m \u001b[0mself\u001b[0m\u001b[1;33m.\u001b[0m\u001b[0mshell\u001b[0m\u001b[1;33m.\u001b[0m\u001b[0mdisplay_formatter\u001b[0m\u001b[1;33m.\u001b[0m\u001b[0mformat\u001b[0m\u001b[1;33m(\u001b[0m\u001b[0mresult\u001b[0m\u001b[1;33m)\u001b[0m\u001b[1;33m\u001b[0m\u001b[0m\n\u001b[0m\u001b[0;32m    139\u001b[0m \u001b[1;33m\u001b[0m\u001b[0m\n\u001b[0;32m    140\u001b[0m     \u001b[1;32mdef\u001b[0m \u001b[0mwrite_format_data\u001b[0m\u001b[1;33m(\u001b[0m\u001b[0mself\u001b[0m\u001b[1;33m,\u001b[0m \u001b[0mformat_dict\u001b[0m\u001b[1;33m,\u001b[0m \u001b[0mmd_dict\u001b[0m\u001b[1;33m=\u001b[0m\u001b[0mNone\u001b[0m\u001b[1;33m)\u001b[0m\u001b[1;33m:\u001b[0m\u001b[1;33m\u001b[0m\u001b[0m\n",
      "\u001b[1;32m/home/chris/anaconda/lib/python2.7/site-packages/IPython/core/formatters.pyc\u001b[0m in \u001b[0;36mformat\u001b[1;34m(self, obj, include, exclude)\u001b[0m\n\u001b[0;32m    172\u001b[0m             \u001b[0mmd\u001b[0m \u001b[1;33m=\u001b[0m \u001b[0mNone\u001b[0m\u001b[1;33m\u001b[0m\u001b[0m\n\u001b[0;32m    173\u001b[0m             \u001b[1;32mtry\u001b[0m\u001b[1;33m:\u001b[0m\u001b[1;33m\u001b[0m\u001b[0m\n\u001b[1;32m--> 174\u001b[1;33m                 \u001b[0mdata\u001b[0m \u001b[1;33m=\u001b[0m \u001b[0mformatter\u001b[0m\u001b[1;33m(\u001b[0m\u001b[0mobj\u001b[0m\u001b[1;33m)\u001b[0m\u001b[1;33m\u001b[0m\u001b[0m\n\u001b[0m\u001b[0;32m    175\u001b[0m             \u001b[1;32mexcept\u001b[0m\u001b[1;33m:\u001b[0m\u001b[1;33m\u001b[0m\u001b[0m\n\u001b[0;32m    176\u001b[0m                 \u001b[1;31m# FIXME: log the exception\u001b[0m\u001b[1;33m\u001b[0m\u001b[1;33m\u001b[0m\u001b[0m\n",
      "\u001b[1;32m/home/chris/anaconda/lib/python2.7/site-packages/IPython/core/formatters.pyc\u001b[0m in \u001b[0;36m__call__\u001b[1;34m(self, obj)\u001b[0m\n",
      "\u001b[1;32m/home/chris/anaconda/lib/python2.7/site-packages/IPython/core/formatters.pyc\u001b[0m in \u001b[0;36mcatch_format_error\u001b[1;34m(method, self, *args, **kwargs)\u001b[0m\n\u001b[0;32m    217\u001b[0m     \u001b[1;34m\"\"\"show traceback on failed format call\"\"\"\u001b[0m\u001b[1;33m\u001b[0m\u001b[0m\n\u001b[0;32m    218\u001b[0m     \u001b[1;32mtry\u001b[0m\u001b[1;33m:\u001b[0m\u001b[1;33m\u001b[0m\u001b[0m\n\u001b[1;32m--> 219\u001b[1;33m         \u001b[0mr\u001b[0m \u001b[1;33m=\u001b[0m \u001b[0mmethod\u001b[0m\u001b[1;33m(\u001b[0m\u001b[0mself\u001b[0m\u001b[1;33m,\u001b[0m \u001b[1;33m*\u001b[0m\u001b[0margs\u001b[0m\u001b[1;33m,\u001b[0m \u001b[1;33m**\u001b[0m\u001b[0mkwargs\u001b[0m\u001b[1;33m)\u001b[0m\u001b[1;33m\u001b[0m\u001b[0m\n\u001b[0m\u001b[0;32m    220\u001b[0m     \u001b[1;32mexcept\u001b[0m \u001b[0mNotImplementedError\u001b[0m\u001b[1;33m:\u001b[0m\u001b[1;33m\u001b[0m\u001b[0m\n\u001b[0;32m    221\u001b[0m         \u001b[1;31m# don't warn on NotImplementedErrors\u001b[0m\u001b[1;33m\u001b[0m\u001b[1;33m\u001b[0m\u001b[0m\n",
      "\u001b[1;32m/home/chris/anaconda/lib/python2.7/site-packages/IPython/core/formatters.pyc\u001b[0m in \u001b[0;36m__call__\u001b[1;34m(self, obj)\u001b[0m\n\u001b[0;32m    688\u001b[0m                 \u001b[0mtype_pprinters\u001b[0m\u001b[1;33m=\u001b[0m\u001b[0mself\u001b[0m\u001b[1;33m.\u001b[0m\u001b[0mtype_printers\u001b[0m\u001b[1;33m,\u001b[0m\u001b[1;33m\u001b[0m\u001b[0m\n\u001b[0;32m    689\u001b[0m                 deferred_pprinters=self.deferred_printers)\n\u001b[1;32m--> 690\u001b[1;33m             \u001b[0mprinter\u001b[0m\u001b[1;33m.\u001b[0m\u001b[0mpretty\u001b[0m\u001b[1;33m(\u001b[0m\u001b[0mobj\u001b[0m\u001b[1;33m)\u001b[0m\u001b[1;33m\u001b[0m\u001b[0m\n\u001b[0m\u001b[0;32m    691\u001b[0m             \u001b[0mprinter\u001b[0m\u001b[1;33m.\u001b[0m\u001b[0mflush\u001b[0m\u001b[1;33m(\u001b[0m\u001b[1;33m)\u001b[0m\u001b[1;33m\u001b[0m\u001b[0m\n\u001b[0;32m    692\u001b[0m             \u001b[1;32mreturn\u001b[0m \u001b[0mstream\u001b[0m\u001b[1;33m.\u001b[0m\u001b[0mgetvalue\u001b[0m\u001b[1;33m(\u001b[0m\u001b[1;33m)\u001b[0m\u001b[1;33m\u001b[0m\u001b[0m\n",
      "\u001b[1;32m/home/chris/anaconda/lib/python2.7/site-packages/IPython/lib/pretty.pyc\u001b[0m in \u001b[0;36mpretty\u001b[1;34m(self, obj)\u001b[0m\n\u001b[0;32m    392\u001b[0m                 \u001b[1;32mif\u001b[0m \u001b[0mcls\u001b[0m \u001b[1;32min\u001b[0m \u001b[0mself\u001b[0m\u001b[1;33m.\u001b[0m\u001b[0mtype_pprinters\u001b[0m\u001b[1;33m:\u001b[0m\u001b[1;33m\u001b[0m\u001b[0m\n\u001b[0;32m    393\u001b[0m                     \u001b[1;31m# printer registered in self.type_pprinters\u001b[0m\u001b[1;33m\u001b[0m\u001b[1;33m\u001b[0m\u001b[0m\n\u001b[1;32m--> 394\u001b[1;33m                     \u001b[1;32mreturn\u001b[0m \u001b[0mself\u001b[0m\u001b[1;33m.\u001b[0m\u001b[0mtype_pprinters\u001b[0m\u001b[1;33m[\u001b[0m\u001b[0mcls\u001b[0m\u001b[1;33m]\u001b[0m\u001b[1;33m(\u001b[0m\u001b[0mobj\u001b[0m\u001b[1;33m,\u001b[0m \u001b[0mself\u001b[0m\u001b[1;33m,\u001b[0m \u001b[0mcycle\u001b[0m\u001b[1;33m)\u001b[0m\u001b[1;33m\u001b[0m\u001b[0m\n\u001b[0m\u001b[0;32m    395\u001b[0m                 \u001b[1;32melse\u001b[0m\u001b[1;33m:\u001b[0m\u001b[1;33m\u001b[0m\u001b[0m\n\u001b[0;32m    396\u001b[0m                     \u001b[1;31m# deferred printer\u001b[0m\u001b[1;33m\u001b[0m\u001b[1;33m\u001b[0m\u001b[0m\n",
      "\u001b[1;32m/home/chris/anaconda/lib/python2.7/site-packages/IPython/lib/pretty.pyc\u001b[0m in \u001b[0;36minner\u001b[1;34m(obj, p, cycle)\u001b[0m\n\u001b[0;32m    647\u001b[0m             \u001b[0mp\u001b[0m\u001b[1;33m.\u001b[0m\u001b[0mpretty\u001b[0m\u001b[1;33m(\u001b[0m\u001b[0mkey\u001b[0m\u001b[1;33m)\u001b[0m\u001b[1;33m\u001b[0m\u001b[0m\n\u001b[0;32m    648\u001b[0m             \u001b[0mp\u001b[0m\u001b[1;33m.\u001b[0m\u001b[0mtext\u001b[0m\u001b[1;33m(\u001b[0m\u001b[1;34m': '\u001b[0m\u001b[1;33m)\u001b[0m\u001b[1;33m\u001b[0m\u001b[0m\n\u001b[1;32m--> 649\u001b[1;33m             \u001b[0mp\u001b[0m\u001b[1;33m.\u001b[0m\u001b[0mpretty\u001b[0m\u001b[1;33m(\u001b[0m\u001b[0mobj\u001b[0m\u001b[1;33m[\u001b[0m\u001b[0mkey\u001b[0m\u001b[1;33m]\u001b[0m\u001b[1;33m)\u001b[0m\u001b[1;33m\u001b[0m\u001b[0m\n\u001b[0m\u001b[0;32m    650\u001b[0m         \u001b[0mp\u001b[0m\u001b[1;33m.\u001b[0m\u001b[0mend_group\u001b[0m\u001b[1;33m(\u001b[0m\u001b[1;36m1\u001b[0m\u001b[1;33m,\u001b[0m \u001b[0mend\u001b[0m\u001b[1;33m)\u001b[0m\u001b[1;33m\u001b[0m\u001b[0m\n\u001b[0;32m    651\u001b[0m     \u001b[1;32mreturn\u001b[0m \u001b[0minner\u001b[0m\u001b[1;33m\u001b[0m\u001b[0m\n",
      "\u001b[1;32m/home/chris/anaconda/lib/python2.7/site-packages/IPython/lib/pretty.pyc\u001b[0m in \u001b[0;36mpretty\u001b[1;34m(self, obj)\u001b[0m\n\u001b[0;32m    407\u001b[0m                             \u001b[1;32mif\u001b[0m \u001b[0mcallable\u001b[0m\u001b[1;33m(\u001b[0m\u001b[0mmeth\u001b[0m\u001b[1;33m)\u001b[0m\u001b[1;33m:\u001b[0m\u001b[1;33m\u001b[0m\u001b[0m\n\u001b[0;32m    408\u001b[0m                                 \u001b[1;32mreturn\u001b[0m \u001b[0mmeth\u001b[0m\u001b[1;33m(\u001b[0m\u001b[0mobj\u001b[0m\u001b[1;33m,\u001b[0m \u001b[0mself\u001b[0m\u001b[1;33m,\u001b[0m \u001b[0mcycle\u001b[0m\u001b[1;33m)\u001b[0m\u001b[1;33m\u001b[0m\u001b[0m\n\u001b[1;32m--> 409\u001b[1;33m             \u001b[1;32mreturn\u001b[0m \u001b[0m_default_pprint\u001b[0m\u001b[1;33m(\u001b[0m\u001b[0mobj\u001b[0m\u001b[1;33m,\u001b[0m \u001b[0mself\u001b[0m\u001b[1;33m,\u001b[0m \u001b[0mcycle\u001b[0m\u001b[1;33m)\u001b[0m\u001b[1;33m\u001b[0m\u001b[0m\n\u001b[0m\u001b[0;32m    410\u001b[0m         \u001b[1;32mfinally\u001b[0m\u001b[1;33m:\u001b[0m\u001b[1;33m\u001b[0m\u001b[0m\n\u001b[0;32m    411\u001b[0m             \u001b[0mself\u001b[0m\u001b[1;33m.\u001b[0m\u001b[0mend_group\u001b[0m\u001b[1;33m(\u001b[0m\u001b[1;33m)\u001b[0m\u001b[1;33m\u001b[0m\u001b[0m\n",
      "\u001b[1;32m/home/chris/anaconda/lib/python2.7/site-packages/IPython/lib/pretty.pyc\u001b[0m in \u001b[0;36m_default_pprint\u001b[1;34m(obj, p, cycle)\u001b[0m\n\u001b[0;32m    527\u001b[0m     \u001b[1;32mif\u001b[0m \u001b[0m_safe_getattr\u001b[0m\u001b[1;33m(\u001b[0m\u001b[0mklass\u001b[0m\u001b[1;33m,\u001b[0m \u001b[1;34m'__repr__'\u001b[0m\u001b[1;33m,\u001b[0m \u001b[0mNone\u001b[0m\u001b[1;33m)\u001b[0m \u001b[1;32mnot\u001b[0m \u001b[1;32min\u001b[0m \u001b[0m_baseclass_reprs\u001b[0m\u001b[1;33m:\u001b[0m\u001b[1;33m\u001b[0m\u001b[0m\n\u001b[0;32m    528\u001b[0m         \u001b[1;31m# A user-provided repr. Find newlines and replace them with p.break_()\u001b[0m\u001b[1;33m\u001b[0m\u001b[1;33m\u001b[0m\u001b[0m\n\u001b[1;32m--> 529\u001b[1;33m         \u001b[0m_repr_pprint\u001b[0m\u001b[1;33m(\u001b[0m\u001b[0mobj\u001b[0m\u001b[1;33m,\u001b[0m \u001b[0mp\u001b[0m\u001b[1;33m,\u001b[0m \u001b[0mcycle\u001b[0m\u001b[1;33m)\u001b[0m\u001b[1;33m\u001b[0m\u001b[0m\n\u001b[0m\u001b[0;32m    530\u001b[0m         \u001b[1;32mreturn\u001b[0m\u001b[1;33m\u001b[0m\u001b[0m\n\u001b[0;32m    531\u001b[0m     \u001b[0mp\u001b[0m\u001b[1;33m.\u001b[0m\u001b[0mbegin_group\u001b[0m\u001b[1;33m(\u001b[0m\u001b[1;36m1\u001b[0m\u001b[1;33m,\u001b[0m \u001b[1;34m'<'\u001b[0m\u001b[1;33m)\u001b[0m\u001b[1;33m\u001b[0m\u001b[0m\n",
      "\u001b[1;32m/home/chris/anaconda/lib/python2.7/site-packages/IPython/lib/pretty.pyc\u001b[0m in \u001b[0;36m_repr_pprint\u001b[1;34m(obj, p, cycle)\u001b[0m\n\u001b[0;32m    709\u001b[0m     \u001b[1;34m\"\"\"A pprint that just redirects to the normal repr function.\"\"\"\u001b[0m\u001b[1;33m\u001b[0m\u001b[0m\n\u001b[0;32m    710\u001b[0m     \u001b[1;31m# Find newlines and replace them with p.break_()\u001b[0m\u001b[1;33m\u001b[0m\u001b[1;33m\u001b[0m\u001b[0m\n\u001b[1;32m--> 711\u001b[1;33m     \u001b[0moutput\u001b[0m \u001b[1;33m=\u001b[0m \u001b[0mrepr\u001b[0m\u001b[1;33m(\u001b[0m\u001b[0mobj\u001b[0m\u001b[1;33m)\u001b[0m\u001b[1;33m\u001b[0m\u001b[0m\n\u001b[0m\u001b[0;32m    712\u001b[0m     \u001b[1;32mfor\u001b[0m \u001b[0midx\u001b[0m\u001b[1;33m,\u001b[0m\u001b[0moutput_line\u001b[0m \u001b[1;32min\u001b[0m \u001b[0menumerate\u001b[0m\u001b[1;33m(\u001b[0m\u001b[0moutput\u001b[0m\u001b[1;33m.\u001b[0m\u001b[0msplitlines\u001b[0m\u001b[1;33m(\u001b[0m\u001b[1;33m)\u001b[0m\u001b[1;33m)\u001b[0m\u001b[1;33m:\u001b[0m\u001b[1;33m\u001b[0m\u001b[0m\n\u001b[0;32m    713\u001b[0m         \u001b[1;32mif\u001b[0m \u001b[0midx\u001b[0m\u001b[1;33m:\u001b[0m\u001b[1;33m\u001b[0m\u001b[0m\n",
      "\u001b[1;32m/home/chris/anaconda/lib/python2.7/site-packages/pandas/core/base.pyc\u001b[0m in \u001b[0;36m__repr__\u001b[1;34m(self)\u001b[0m\n\u001b[0;32m     55\u001b[0m         \u001b[0mYields\u001b[0m \u001b[0mBytestring\u001b[0m \u001b[1;32min\u001b[0m \u001b[0mPy2\u001b[0m\u001b[1;33m,\u001b[0m \u001b[0mUnicode\u001b[0m \u001b[0mString\u001b[0m \u001b[1;32min\u001b[0m \u001b[0mpy3\u001b[0m\u001b[1;33m.\u001b[0m\u001b[1;33m\u001b[0m\u001b[0m\n\u001b[0;32m     56\u001b[0m         \"\"\"\n\u001b[1;32m---> 57\u001b[1;33m         \u001b[1;32mreturn\u001b[0m \u001b[0mstr\u001b[0m\u001b[1;33m(\u001b[0m\u001b[0mself\u001b[0m\u001b[1;33m)\u001b[0m\u001b[1;33m\u001b[0m\u001b[0m\n\u001b[0m\u001b[0;32m     58\u001b[0m \u001b[1;33m\u001b[0m\u001b[0m\n\u001b[0;32m     59\u001b[0m \u001b[1;33m\u001b[0m\u001b[0m\n",
      "\u001b[1;32m/home/chris/anaconda/lib/python2.7/site-packages/pandas/core/base.pyc\u001b[0m in \u001b[0;36m__str__\u001b[1;34m(self)\u001b[0m\n\u001b[0;32m     35\u001b[0m         \u001b[1;32mif\u001b[0m \u001b[0mcompat\u001b[0m\u001b[1;33m.\u001b[0m\u001b[0mPY3\u001b[0m\u001b[1;33m:\u001b[0m\u001b[1;33m\u001b[0m\u001b[0m\n\u001b[0;32m     36\u001b[0m             \u001b[1;32mreturn\u001b[0m \u001b[0mself\u001b[0m\u001b[1;33m.\u001b[0m\u001b[0m__unicode__\u001b[0m\u001b[1;33m(\u001b[0m\u001b[1;33m)\u001b[0m\u001b[1;33m\u001b[0m\u001b[0m\n\u001b[1;32m---> 37\u001b[1;33m         \u001b[1;32mreturn\u001b[0m \u001b[0mself\u001b[0m\u001b[1;33m.\u001b[0m\u001b[0m__bytes__\u001b[0m\u001b[1;33m(\u001b[0m\u001b[1;33m)\u001b[0m\u001b[1;33m\u001b[0m\u001b[0m\n\u001b[0m\u001b[0;32m     38\u001b[0m \u001b[1;33m\u001b[0m\u001b[0m\n\u001b[0;32m     39\u001b[0m     \u001b[1;32mdef\u001b[0m \u001b[0m__bytes__\u001b[0m\u001b[1;33m(\u001b[0m\u001b[0mself\u001b[0m\u001b[1;33m)\u001b[0m\u001b[1;33m:\u001b[0m\u001b[1;33m\u001b[0m\u001b[0m\n",
      "\u001b[1;32m/home/chris/anaconda/lib/python2.7/site-packages/pandas/core/base.pyc\u001b[0m in \u001b[0;36m__bytes__\u001b[1;34m(self)\u001b[0m\n\u001b[0;32m     47\u001b[0m \u001b[1;33m\u001b[0m\u001b[0m\n\u001b[0;32m     48\u001b[0m         \u001b[0mencoding\u001b[0m \u001b[1;33m=\u001b[0m \u001b[0mget_option\u001b[0m\u001b[1;33m(\u001b[0m\u001b[1;34m\"display.encoding\"\u001b[0m\u001b[1;33m)\u001b[0m\u001b[1;33m\u001b[0m\u001b[0m\n\u001b[1;32m---> 49\u001b[1;33m         \u001b[1;32mreturn\u001b[0m \u001b[0mself\u001b[0m\u001b[1;33m.\u001b[0m\u001b[0m__unicode__\u001b[0m\u001b[1;33m(\u001b[0m\u001b[1;33m)\u001b[0m\u001b[1;33m.\u001b[0m\u001b[0mencode\u001b[0m\u001b[1;33m(\u001b[0m\u001b[0mencoding\u001b[0m\u001b[1;33m,\u001b[0m \u001b[1;34m'replace'\u001b[0m\u001b[1;33m)\u001b[0m\u001b[1;33m\u001b[0m\u001b[0m\n\u001b[0m\u001b[0;32m     50\u001b[0m \u001b[1;33m\u001b[0m\u001b[0m\n\u001b[0;32m     51\u001b[0m     \u001b[1;32mdef\u001b[0m \u001b[0m__repr__\u001b[0m\u001b[1;33m(\u001b[0m\u001b[0mself\u001b[0m\u001b[1;33m)\u001b[0m\u001b[1;33m:\u001b[0m\u001b[1;33m\u001b[0m\u001b[0m\n",
      "\u001b[1;32m/home/chris/anaconda/lib/python2.7/site-packages/pandas/core/frame.pyc\u001b[0m in \u001b[0;36m__unicode__\u001b[1;34m(self)\u001b[0m\n\u001b[0;32m    462\u001b[0m             \u001b[0mwidth\u001b[0m \u001b[1;33m=\u001b[0m \u001b[0mNone\u001b[0m\u001b[1;33m\u001b[0m\u001b[0m\n\u001b[0;32m    463\u001b[0m         self.to_string(buf=buf, max_rows=max_rows, max_cols=max_cols,\n\u001b[1;32m--> 464\u001b[1;33m                        line_width=width, show_dimensions=show_dimensions)\n\u001b[0m\u001b[0;32m    465\u001b[0m \u001b[1;33m\u001b[0m\u001b[0m\n\u001b[0;32m    466\u001b[0m         \u001b[1;32mreturn\u001b[0m \u001b[0mbuf\u001b[0m\u001b[1;33m.\u001b[0m\u001b[0mgetvalue\u001b[0m\u001b[1;33m(\u001b[0m\u001b[1;33m)\u001b[0m\u001b[1;33m\u001b[0m\u001b[0m\n",
      "\u001b[1;32m/home/chris/anaconda/lib/python2.7/site-packages/pandas/core/frame.pyc\u001b[0m in \u001b[0;36mto_string\u001b[1;34m(self, buf, columns, col_space, colSpace, header, index, na_rep, formatters, float_format, sparsify, index_names, justify, line_width, max_rows, max_cols, show_dimensions)\u001b[0m\n\u001b[0;32m   1291\u001b[0m                                            \u001b[0mmax_cols\u001b[0m\u001b[1;33m=\u001b[0m\u001b[0mmax_cols\u001b[0m\u001b[1;33m,\u001b[0m\u001b[1;33m\u001b[0m\u001b[0m\n\u001b[0;32m   1292\u001b[0m                                            show_dimensions=show_dimensions)\n\u001b[1;32m-> 1293\u001b[1;33m         \u001b[0mformatter\u001b[0m\u001b[1;33m.\u001b[0m\u001b[0mto_string\u001b[0m\u001b[1;33m(\u001b[0m\u001b[1;33m)\u001b[0m\u001b[1;33m\u001b[0m\u001b[0m\n\u001b[0m\u001b[0;32m   1294\u001b[0m \u001b[1;33m\u001b[0m\u001b[0m\n\u001b[0;32m   1295\u001b[0m         \u001b[1;32mif\u001b[0m \u001b[0mbuf\u001b[0m \u001b[1;32mis\u001b[0m \u001b[0mNone\u001b[0m\u001b[1;33m:\u001b[0m\u001b[1;33m\u001b[0m\u001b[0m\n",
      "\u001b[1;32m/home/chris/anaconda/lib/python2.7/site-packages/pandas/core/format.pyc\u001b[0m in \u001b[0;36mto_string\u001b[1;34m(self)\u001b[0m\n\u001b[0;32m    439\u001b[0m             \u001b[0mtext\u001b[0m \u001b[1;33m=\u001b[0m \u001b[0minfo_line\u001b[0m\u001b[1;33m\u001b[0m\u001b[0m\n\u001b[0;32m    440\u001b[0m         \u001b[1;32melse\u001b[0m\u001b[1;33m:\u001b[0m\u001b[1;33m\u001b[0m\u001b[0m\n\u001b[1;32m--> 441\u001b[1;33m             \u001b[0mstrcols\u001b[0m \u001b[1;33m=\u001b[0m \u001b[0mself\u001b[0m\u001b[1;33m.\u001b[0m\u001b[0m_to_str_columns\u001b[0m\u001b[1;33m(\u001b[0m\u001b[1;33m)\u001b[0m\u001b[1;33m\u001b[0m\u001b[0m\n\u001b[0m\u001b[0;32m    442\u001b[0m             \u001b[1;32mif\u001b[0m \u001b[0mself\u001b[0m\u001b[1;33m.\u001b[0m\u001b[0mline_width\u001b[0m \u001b[1;32mis\u001b[0m \u001b[0mNone\u001b[0m\u001b[1;33m:\u001b[0m\u001b[1;33m\u001b[0m\u001b[0m\n\u001b[0;32m    443\u001b[0m                 \u001b[0mtext\u001b[0m \u001b[1;33m=\u001b[0m \u001b[0madjoin\u001b[0m\u001b[1;33m(\u001b[0m\u001b[1;36m1\u001b[0m\u001b[1;33m,\u001b[0m \u001b[1;33m*\u001b[0m\u001b[0mstrcols\u001b[0m\u001b[1;33m)\u001b[0m\u001b[1;33m\u001b[0m\u001b[0m\n",
      "\u001b[1;32m/home/chris/anaconda/lib/python2.7/site-packages/pandas/core/format.pyc\u001b[0m in \u001b[0;36m_to_str_columns\u001b[1;34m(self)\u001b[0m\n\u001b[0;32m    366\u001b[0m                                    *(_strlen(x) for x in cheader))\n\u001b[0;32m    367\u001b[0m \u001b[1;33m\u001b[0m\u001b[0m\n\u001b[1;32m--> 368\u001b[1;33m                 \u001b[0mfmt_values\u001b[0m \u001b[1;33m=\u001b[0m \u001b[0mself\u001b[0m\u001b[1;33m.\u001b[0m\u001b[0m_format_col\u001b[0m\u001b[1;33m(\u001b[0m\u001b[0mi\u001b[0m\u001b[1;33m)\u001b[0m\u001b[1;33m\u001b[0m\u001b[0m\n\u001b[0m\u001b[0;32m    369\u001b[0m \u001b[1;33m\u001b[0m\u001b[0m\n\u001b[0;32m    370\u001b[0m                 fmt_values = _make_fixed_width(fmt_values, self.justify,\n",
      "\u001b[1;32m/home/chris/anaconda/lib/python2.7/site-packages/pandas/core/format.pyc\u001b[0m in \u001b[0;36m_format_col\u001b[1;34m(self, i)\u001b[0m\n\u001b[0;32m    576\u001b[0m             \u001b[1;33m(\u001b[0m\u001b[0mframe\u001b[0m\u001b[1;33m.\u001b[0m\u001b[0miloc\u001b[0m\u001b[1;33m[\u001b[0m\u001b[1;33m:\u001b[0m\u001b[1;33m,\u001b[0m \u001b[0mi\u001b[0m\u001b[1;33m]\u001b[0m\u001b[1;33m)\u001b[0m\u001b[1;33m.\u001b[0m\u001b[0mget_values\u001b[0m\u001b[1;33m(\u001b[0m\u001b[1;33m)\u001b[0m\u001b[1;33m,\u001b[0m\u001b[1;33m\u001b[0m\u001b[0m\n\u001b[0;32m    577\u001b[0m             \u001b[0mformatter\u001b[0m\u001b[1;33m,\u001b[0m \u001b[0mfloat_format\u001b[0m\u001b[1;33m=\u001b[0m\u001b[0mself\u001b[0m\u001b[1;33m.\u001b[0m\u001b[0mfloat_format\u001b[0m\u001b[1;33m,\u001b[0m \u001b[0mna_rep\u001b[0m\u001b[1;33m=\u001b[0m\u001b[0mself\u001b[0m\u001b[1;33m.\u001b[0m\u001b[0mna_rep\u001b[0m\u001b[1;33m,\u001b[0m\u001b[1;33m\u001b[0m\u001b[0m\n\u001b[1;32m--> 578\u001b[1;33m             \u001b[0mspace\u001b[0m\u001b[1;33m=\u001b[0m\u001b[0mself\u001b[0m\u001b[1;33m.\u001b[0m\u001b[0mcol_space\u001b[0m\u001b[1;33m\u001b[0m\u001b[0m\n\u001b[0m\u001b[0;32m    579\u001b[0m         )\n\u001b[0;32m    580\u001b[0m \u001b[1;33m\u001b[0m\u001b[0m\n",
      "\u001b[1;32m/home/chris/anaconda/lib/python2.7/site-packages/pandas/core/format.pyc\u001b[0m in \u001b[0;36mformat_array\u001b[1;34m(values, formatter, float_format, na_rep, digits, space, justify)\u001b[0m\n\u001b[0;32m   1763\u001b[0m                         justify=justify)\n\u001b[0;32m   1764\u001b[0m \u001b[1;33m\u001b[0m\u001b[0m\n\u001b[1;32m-> 1765\u001b[1;33m     \u001b[1;32mreturn\u001b[0m \u001b[0mfmt_obj\u001b[0m\u001b[1;33m.\u001b[0m\u001b[0mget_result\u001b[0m\u001b[1;33m(\u001b[0m\u001b[1;33m)\u001b[0m\u001b[1;33m\u001b[0m\u001b[0m\n\u001b[0m\u001b[0;32m   1766\u001b[0m \u001b[1;33m\u001b[0m\u001b[0m\n\u001b[0;32m   1767\u001b[0m \u001b[1;33m\u001b[0m\u001b[0m\n",
      "\u001b[1;32m/home/chris/anaconda/lib/python2.7/site-packages/pandas/core/format.pyc\u001b[0m in \u001b[0;36mget_result\u001b[1;34m(self)\u001b[0m\n\u001b[0;32m   1779\u001b[0m \u001b[1;33m\u001b[0m\u001b[0m\n\u001b[0;32m   1780\u001b[0m     \u001b[1;32mdef\u001b[0m \u001b[0mget_result\u001b[0m\u001b[1;33m(\u001b[0m\u001b[0mself\u001b[0m\u001b[1;33m)\u001b[0m\u001b[1;33m:\u001b[0m\u001b[1;33m\u001b[0m\u001b[0m\n\u001b[1;32m-> 1781\u001b[1;33m         \u001b[0mfmt_values\u001b[0m \u001b[1;33m=\u001b[0m \u001b[0mself\u001b[0m\u001b[1;33m.\u001b[0m\u001b[0m_format_strings\u001b[0m\u001b[1;33m(\u001b[0m\u001b[1;33m)\u001b[0m\u001b[1;33m\u001b[0m\u001b[0m\n\u001b[0m\u001b[0;32m   1782\u001b[0m         \u001b[1;32mreturn\u001b[0m \u001b[0m_make_fixed_width\u001b[0m\u001b[1;33m(\u001b[0m\u001b[0mfmt_values\u001b[0m\u001b[1;33m,\u001b[0m \u001b[0mself\u001b[0m\u001b[1;33m.\u001b[0m\u001b[0mjustify\u001b[0m\u001b[1;33m)\u001b[0m\u001b[1;33m\u001b[0m\u001b[0m\n\u001b[0;32m   1783\u001b[0m \u001b[1;33m\u001b[0m\u001b[0m\n",
      "\u001b[1;32m/home/chris/anaconda/lib/python2.7/site-packages/pandas/core/format.pyc\u001b[0m in \u001b[0;36m_format_strings\u001b[1;34m(self)\u001b[0m\n\u001b[0;32m   1784\u001b[0m     \u001b[1;32mdef\u001b[0m \u001b[0m_format_strings\u001b[0m\u001b[1;33m(\u001b[0m\u001b[0mself\u001b[0m\u001b[1;33m)\u001b[0m\u001b[1;33m:\u001b[0m\u001b[1;33m\u001b[0m\u001b[0m\n\u001b[0;32m   1785\u001b[0m         \u001b[1;32mif\u001b[0m \u001b[0mself\u001b[0m\u001b[1;33m.\u001b[0m\u001b[0mfloat_format\u001b[0m \u001b[1;32mis\u001b[0m \u001b[0mNone\u001b[0m\u001b[1;33m:\u001b[0m\u001b[1;33m\u001b[0m\u001b[0m\n\u001b[1;32m-> 1786\u001b[1;33m             \u001b[0mfloat_format\u001b[0m \u001b[1;33m=\u001b[0m \u001b[0mget_option\u001b[0m\u001b[1;33m(\u001b[0m\u001b[1;34m\"display.float_format\"\u001b[0m\u001b[1;33m)\u001b[0m\u001b[1;33m\u001b[0m\u001b[0m\n\u001b[0m\u001b[0;32m   1787\u001b[0m             \u001b[1;32mif\u001b[0m \u001b[0mfloat_format\u001b[0m \u001b[1;32mis\u001b[0m \u001b[0mNone\u001b[0m\u001b[1;33m:\u001b[0m\u001b[1;33m\u001b[0m\u001b[0m\n\u001b[0;32m   1788\u001b[0m                 \u001b[0mfmt_str\u001b[0m \u001b[1;33m=\u001b[0m \u001b[1;34m'%% .%dg'\u001b[0m \u001b[1;33m%\u001b[0m \u001b[0mget_option\u001b[0m\u001b[1;33m(\u001b[0m\u001b[1;34m\"display.precision\"\u001b[0m\u001b[1;33m)\u001b[0m\u001b[1;33m\u001b[0m\u001b[0m\n",
      "\u001b[1;32m/home/chris/anaconda/lib/python2.7/site-packages/pandas/core/config.pyc\u001b[0m in \u001b[0;36m__call__\u001b[1;34m(self, *args, **kwds)\u001b[0m\n\u001b[0;32m    215\u001b[0m \u001b[1;33m\u001b[0m\u001b[0m\n\u001b[0;32m    216\u001b[0m     \u001b[1;32mdef\u001b[0m \u001b[0m__call__\u001b[0m\u001b[1;33m(\u001b[0m\u001b[0mself\u001b[0m\u001b[1;33m,\u001b[0m \u001b[1;33m*\u001b[0m\u001b[0margs\u001b[0m\u001b[1;33m,\u001b[0m \u001b[1;33m**\u001b[0m\u001b[0mkwds\u001b[0m\u001b[1;33m)\u001b[0m\u001b[1;33m:\u001b[0m\u001b[1;33m\u001b[0m\u001b[0m\n\u001b[1;32m--> 217\u001b[1;33m         \u001b[1;32mreturn\u001b[0m \u001b[0mself\u001b[0m\u001b[1;33m.\u001b[0m\u001b[0m__func__\u001b[0m\u001b[1;33m(\u001b[0m\u001b[1;33m*\u001b[0m\u001b[0margs\u001b[0m\u001b[1;33m,\u001b[0m \u001b[1;33m**\u001b[0m\u001b[0mkwds\u001b[0m\u001b[1;33m)\u001b[0m\u001b[1;33m\u001b[0m\u001b[0m\n\u001b[0m\u001b[0;32m    218\u001b[0m \u001b[1;33m\u001b[0m\u001b[0m\n\u001b[0;32m    219\u001b[0m     \u001b[1;33m@\u001b[0m\u001b[0mproperty\u001b[0m\u001b[1;33m\u001b[0m\u001b[0m\n",
      "\u001b[1;32m/home/chris/anaconda/lib/python2.7/site-packages/pandas/core/config.pyc\u001b[0m in \u001b[0;36m_get_option\u001b[1;34m(pat, silent)\u001b[0m\n\u001b[0;32m     94\u001b[0m \u001b[1;33m\u001b[0m\u001b[0m\n\u001b[0;32m     95\u001b[0m \u001b[1;32mdef\u001b[0m \u001b[0m_get_option\u001b[0m\u001b[1;33m(\u001b[0m\u001b[0mpat\u001b[0m\u001b[1;33m,\u001b[0m \u001b[0msilent\u001b[0m\u001b[1;33m=\u001b[0m\u001b[0mFalse\u001b[0m\u001b[1;33m)\u001b[0m\u001b[1;33m:\u001b[0m\u001b[1;33m\u001b[0m\u001b[0m\n\u001b[1;32m---> 96\u001b[1;33m     \u001b[0mkey\u001b[0m \u001b[1;33m=\u001b[0m \u001b[0m_get_single_key\u001b[0m\u001b[1;33m(\u001b[0m\u001b[0mpat\u001b[0m\u001b[1;33m,\u001b[0m \u001b[0msilent\u001b[0m\u001b[1;33m)\u001b[0m\u001b[1;33m\u001b[0m\u001b[0m\n\u001b[0m\u001b[0;32m     97\u001b[0m \u001b[1;33m\u001b[0m\u001b[0m\n\u001b[0;32m     98\u001b[0m     \u001b[1;31m# walk the nested dict\u001b[0m\u001b[1;33m\u001b[0m\u001b[1;33m\u001b[0m\u001b[0m\n",
      "\u001b[1;32m/home/chris/anaconda/lib/python2.7/site-packages/pandas/core/config.pyc\u001b[0m in \u001b[0;36m_get_single_key\u001b[1;34m(pat, silent)\u001b[0m\n\u001b[0;32m     86\u001b[0m \u001b[1;33m\u001b[0m\u001b[0m\n\u001b[0;32m     87\u001b[0m     \u001b[1;32mif\u001b[0m \u001b[1;32mnot\u001b[0m \u001b[0msilent\u001b[0m\u001b[1;33m:\u001b[0m\u001b[1;33m\u001b[0m\u001b[0m\n\u001b[1;32m---> 88\u001b[1;33m         \u001b[0m_warn_if_deprecated\u001b[0m\u001b[1;33m(\u001b[0m\u001b[0mkey\u001b[0m\u001b[1;33m)\u001b[0m\u001b[1;33m\u001b[0m\u001b[0m\n\u001b[0m\u001b[0;32m     89\u001b[0m \u001b[1;33m\u001b[0m\u001b[0m\n\u001b[0;32m     90\u001b[0m     \u001b[0mkey\u001b[0m \u001b[1;33m=\u001b[0m \u001b[0m_translate_key\u001b[0m\u001b[1;33m(\u001b[0m\u001b[0mkey\u001b[0m\u001b[1;33m)\u001b[0m\u001b[1;33m\u001b[0m\u001b[0m\n",
      "\u001b[1;32m/home/chris/anaconda/lib/python2.7/site-packages/pandas/core/config.pyc\u001b[0m in \u001b[0;36m_warn_if_deprecated\u001b[1;34m(key)\u001b[0m\n\u001b[0;32m    604\u001b[0m     \"\"\"\n\u001b[0;32m    605\u001b[0m \u001b[1;33m\u001b[0m\u001b[0m\n\u001b[1;32m--> 606\u001b[1;33m     \u001b[0md\u001b[0m \u001b[1;33m=\u001b[0m \u001b[0m_get_deprecated_option\u001b[0m\u001b[1;33m(\u001b[0m\u001b[0mkey\u001b[0m\u001b[1;33m)\u001b[0m\u001b[1;33m\u001b[0m\u001b[0m\n\u001b[0m\u001b[0;32m    607\u001b[0m     \u001b[1;32mif\u001b[0m \u001b[0md\u001b[0m\u001b[1;33m:\u001b[0m\u001b[1;33m\u001b[0m\u001b[0m\n\u001b[0;32m    608\u001b[0m         \u001b[1;32mif\u001b[0m \u001b[0md\u001b[0m\u001b[1;33m.\u001b[0m\u001b[0mmsg\u001b[0m\u001b[1;33m:\u001b[0m\u001b[1;33m\u001b[0m\u001b[0m\n",
      "\u001b[1;32m/home/chris/anaconda/lib/python2.7/site-packages/pandas/core/config.pyc\u001b[0m in \u001b[0;36m_get_deprecated_option\u001b[1;34m(key)\u001b[0m\n\u001b[0;32m    564\u001b[0m \u001b[1;33m\u001b[0m\u001b[0m\n\u001b[0;32m    565\u001b[0m     \u001b[1;32mtry\u001b[0m\u001b[1;33m:\u001b[0m\u001b[1;33m\u001b[0m\u001b[0m\n\u001b[1;32m--> 566\u001b[1;33m         \u001b[0md\u001b[0m \u001b[1;33m=\u001b[0m \u001b[0m_deprecated_options\u001b[0m\u001b[1;33m[\u001b[0m\u001b[0mkey\u001b[0m\u001b[1;33m]\u001b[0m\u001b[1;33m\u001b[0m\u001b[0m\n\u001b[0m\u001b[0;32m    567\u001b[0m     \u001b[1;32mexcept\u001b[0m \u001b[0mKeyError\u001b[0m\u001b[1;33m:\u001b[0m\u001b[1;33m\u001b[0m\u001b[0m\n\u001b[0;32m    568\u001b[0m         \u001b[1;32mreturn\u001b[0m \u001b[0mNone\u001b[0m\u001b[1;33m\u001b[0m\u001b[0m\n",
      "\u001b[1;31mKeyboardInterrupt\u001b[0m: "
     ]
    }
   ],
   "source": [
    "locals()"
   ]
  },
  {
   "cell_type": "code",
   "execution_count": null,
   "metadata": {
    "collapsed": true
   },
   "outputs": [],
   "source": []
  }
 ],
 "metadata": {
  "kernelspec": {
   "display_name": "Python 2",
   "language": "python",
   "name": "python2"
  },
  "language_info": {
   "codemirror_mode": {
    "name": "ipython",
    "version": 2
   },
   "file_extension": ".py",
   "mimetype": "text/x-python",
   "name": "python",
   "nbconvert_exporter": "python",
   "pygments_lexer": "ipython2",
   "version": "2.7.10"
  }
 },
 "nbformat": 4,
 "nbformat_minor": 0
}
