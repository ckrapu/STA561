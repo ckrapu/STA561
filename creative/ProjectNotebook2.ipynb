{
 "cells": [
  {
   "cell_type": "markdown",
   "metadata": {},
   "source": [
    "<h2> More analysis</h2>\n",
    "<p> In the previous notebook, we did some data munging, model selection, hyperparameter optimization and community analysis. In this notebook, we'll do a bit more analysis and also apply LDA to range estimation and species distribution modeling.</p>"
   ]
  },
  {
   "cell_type": "code",
   "execution_count": 1,
   "metadata": {
    "collapsed": false
   },
   "outputs": [
    {
     "name": "stdout",
     "output_type": "stream",
     "text": [
      "Couldn't import dot_parser, loading of dot files will not be possible.\n"
     ]
    },
    {
     "name": "stderr",
     "output_type": "stream",
     "text": [
      "/home/chris/anaconda/lib/python2.7/site-packages/matplotlib/__init__.py:872: UserWarning: axes.color_cycle is deprecated and replaced with axes.prop_cycle; please use the latter.\n",
      "  warnings.warn(self.msg_depr % (key, alt_key))\n"
     ]
    }
   ],
   "source": [
    "from collections import Counter\n",
    "from csv import reader\n",
    "import descartes\n",
    "import fiona\n",
    "import gensim\n",
    "from geopandas import GeoDataFrame\n",
    "import geopy\n",
    "from IPython.display import Image,display\n",
    "import logging\n",
    "import matplotlib.pyplot as plt\n",
    "from mpl_toolkits import basemap\n",
    "import mpl_toolkits\n",
    "import numpy as np\n",
    "import pandas as pd\n",
    "import pickle\n",
    "from pprint import pprint\n",
    "import pyper as pr\n",
    "import seaborn as sns\n",
    "import shapely\n",
    "from sklearn.cluster import DBSCAN\n",
    "from sklearn.manifold import TSNE\n",
    "import sys\n",
    "\n",
    "%matplotlib inline"
   ]
  },
  {
   "cell_type": "code",
   "execution_count": 12,
   "metadata": {
    "collapsed": false
   },
   "outputs": [],
   "source": [
    "# First, we'll load the dataframes we were using before:\n",
    "\n",
    "speciesCommunityDF = pd.read_csv('dataframes/speciesCommunityDF.csv',index_col='Unnamed: 0')\n",
    "communityLocationDF = pd.read_csv('dataframes/communityLocationDF.csv',index_col = 'verbatimCoordinates')\n",
    "\n"
   ]
  },
  {
   "cell_type": "markdown",
   "metadata": {},
   "source": [
    "<h2> Another round of clustering</h2>\n",
    "<p> We've got spatial maps of community prominence over the landscape, but what we'd really like to know is which physical locations are similar to each other with regard to the distribution over all communities! One way to do this is by clustering the physical locations by their distributions over communities. Then, the cluster labels should group together locations which have similar makeup of communities. We'll use the clustering algorithm [DBSCAN](http://scikit-learn.org/stable/modules/generated/sklearn.cluster.DBSCAN.html#sklearn.cluster.DBSCAN) after a dimension reduction step using [TSNE](http://scikit-learn.org/stable/modules/generated/sklearn.manifold.TSNE.html) as implemented in sklearn. Note that running TSNE on this many observations is expensive; TSNE has space complexity of $O(n^2)$ which makes large datasets infeasible. 12000 records is pushing the limit."
   ]
  },
  {
   "cell_type": "code",
   "execution_count": null,
   "metadata": {
    "collapsed": false
   },
   "outputs": [],
   "source": [
    "theta = communityLocationDF.drop(['decimalLatitude','decimalLongitude'],1)\n",
    "assert theta.shape[0] > theta.shape[1]  \n",
    "\n",
    "# TSNE finds an embedding of the data which seeks to keep similar points near other similar points.\n",
    "tsneModel = TSNE(n_components = 2, random_state = 827)\n",
    "reducedTheta = tsneModel.fit_transform(theta)\n",
    "\n",
    "# Let's get a look at the low-dimensional projection that TSNE came up with.\n",
    "plt.scatter(reducedTheta)\n",
    "\n",
    "dbscan = DBSCAN()\n",
    "dbscan.fit(reducedTheta)\n",
    "clusterLabels = dbscan.fit_predict(theta)\n"
   ]
  },
  {
   "cell_type": "code",
   "execution_count": null,
   "metadata": {
    "collapsed": true
   },
   "outputs": [],
   "source": []
  },
  {
   "cell_type": "code",
   "execution_count": null,
   "metadata": {
    "collapsed": true
   },
   "outputs": [],
   "source": []
  }
 ],
 "metadata": {
  "kernelspec": {
   "display_name": "Python 2",
   "language": "python",
   "name": "python2"
  },
  "language_info": {
   "codemirror_mode": {
    "name": "ipython",
    "version": 2
   },
   "file_extension": ".py",
   "mimetype": "text/x-python",
   "name": "python",
   "nbconvert_exporter": "python",
   "pygments_lexer": "ipython2",
   "version": "2.7.11"
  }
 },
 "nbformat": 4,
 "nbformat_minor": 0
}
