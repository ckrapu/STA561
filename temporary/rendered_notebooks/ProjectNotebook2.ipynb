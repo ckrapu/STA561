{
 "cells": [
  {
   "cell_type": "markdown",
   "metadata": {},
   "source": [
    "<h2> More analysis</h2>\n",
    "<p> In the previous notebook, we did some data munging, model selection, hyperparameter optimization and community analysis. In this notebook, we'll do a bit more analysis and also apply LDA to range estimation and species distribution modeling.</p>"
   ]
  },
  {
   "cell_type": "code",
   "execution_count": 1,
   "metadata": {
    "collapsed": false
   },
   "outputs": [
    {
     "name": "stdout",
     "output_type": "stream",
     "text": [
      "Couldn't import dot_parser, loading of dot files will not be possible.\n"
     ]
    },
    {
     "name": "stderr",
     "output_type": "stream",
     "text": [
      "/home/chris/anaconda/lib/python2.7/site-packages/matplotlib/__init__.py:872: UserWarning: axes.color_cycle is deprecated and replaced with axes.prop_cycle; please use the latter.\n",
      "  warnings.warn(self.msg_depr % (key, alt_key))\n"
     ]
    }
   ],
   "source": [
    "from collections import Counter\n",
    "from csv import reader\n",
    "import descartes\n",
    "import fiona\n",
    "import gensim\n",
    "from geopandas import GeoDataFrame\n",
    "import geopy\n",
    "from IPython.display import Image,display\n",
    "import flandersmap as fm\n",
    "import logging\n",
    "import matplotlib.pyplot as plt\n",
    "from mpl_toolkits import basemap\n",
    "import mpl_toolkits\n",
    "import numpy as np\n",
    "import pandas as pd\n",
    "import pickle\n",
    "from pprint import pprint\n",
    "import pyper as pr\n",
    "import seaborn as sns\n",
    "import shapely\n",
    "from sklearn.cluster import SpectralClustering\n",
    "from sklearn.metrics import roc_auc_score\n",
    "import sys\n",
    "import wrappers as w\n",
    "\n",
    "\n",
    "%matplotlib inline"
   ]
  },
  {
   "cell_type": "code",
   "execution_count": 2,
   "metadata": {
    "collapsed": false
   },
   "outputs": [],
   "source": [
    "# First, we'll load the dataframes we were using before:\n",
    "\n",
    "speciesCommunityDF = pd.read_csv('dataframes/speciesCommunityDF.csv',index_col='Unnamed: 0')\n",
    "communityLocationDF = pd.read_csv('dataframes/communityLocationDF.csv',index_col = 'verbatimCoordinates')\n",
    "presenceDF = pd.read_csv('dataframes/presenceDF.csv',index_col = 'Unnamed: 0')\n"
   ]
  },
  {
   "cell_type": "markdown",
   "metadata": {},
   "source": [
    "<h2> Another round of clustering</h2>\n",
    "<p> We've got spatial maps of community prominence over the landscape, but what we'd really like to know is which physical locations are similar to each other with regard to the distribution over all communities! One way to do this is by clustering the physical locations by their distributions over communities. Then, the cluster labels should group together locations which have similar makeup of communities. We'll use the spectral clustering [implementation] in sklearn. This will give us a feel for which regions have similar makeups, i.e. in which the mixture proportions of communities are similar. </p>"
   ]
  },
  {
   "cell_type": "code",
   "execution_count": 7,
   "metadata": {
    "collapsed": false
   },
   "outputs": [
    {
     "ename": "NameError",
     "evalue": "global name 'lowerLeftCornerLatitude' is not defined",
     "output_type": "error",
     "traceback": [
      "\u001b[1;31m---------------------------------------------------------------------------\u001b[0m",
      "\u001b[1;31mNameError\u001b[0m                                 Traceback (most recent call last)",
      "\u001b[1;32m<ipython-input-7-77f0c4c8bdb3>\u001b[0m in \u001b[0;36m<module>\u001b[1;34m()\u001b[0m\n\u001b[0;32m     10\u001b[0m \u001b[0my\u001b[0m \u001b[1;33m=\u001b[0m \u001b[1;33m[\u001b[0m\u001b[0mfloat\u001b[0m\u001b[1;33m(\u001b[0m\u001b[0mi\u001b[0m\u001b[1;33m)\u001b[0m \u001b[1;32mfor\u001b[0m \u001b[0mi\u001b[0m \u001b[1;32min\u001b[0m \u001b[0mcommunityLocationDF\u001b[0m\u001b[1;33m[\u001b[0m\u001b[1;34m'decimalLatitude'\u001b[0m\u001b[1;33m]\u001b[0m\u001b[1;33m.\u001b[0m\u001b[0mvalues\u001b[0m\u001b[1;33m]\u001b[0m\u001b[1;33m\u001b[0m\u001b[0m\n\u001b[0;32m     11\u001b[0m \u001b[1;33m\u001b[0m\u001b[0m\n\u001b[1;32m---> 12\u001b[1;33m \u001b[0mbmap\u001b[0m \u001b[1;33m=\u001b[0m \u001b[0mw\u001b[0m\u001b[1;33m.\u001b[0m\u001b[0mbasemapWrapper\u001b[0m\u001b[1;33m(\u001b[0m\u001b[0mlowerLeftCornerLongitude\u001b[0m\u001b[1;33m,\u001b[0m\u001b[0mlowerLeftCornerLatitude\u001b[0m\u001b[1;33m,\u001b[0m\u001b[0mupperRightCornerLongitude\u001b[0m\u001b[1;33m,\u001b[0m\u001b[0mupperRightCornerLatitude\u001b[0m\u001b[1;33m)\u001b[0m\u001b[1;33m\u001b[0m\u001b[0m\n\u001b[0m\u001b[0;32m     13\u001b[0m \u001b[1;33m\u001b[0m\u001b[0m\n\u001b[0;32m     14\u001b[0m '''sc = SpectralClustering(n_clusters = 12)\n",
      "\u001b[1;32m/home/chris/Dropbox/Public/LDA_project/project_repository/temporary/wrappers.py\u001b[0m in \u001b[0;36mbasemapWrapper\u001b[1;34m(llLong, llLat, urLong, urLat)\u001b[0m\n\u001b[0;32m     31\u001b[0m     \u001b[0mbmap\u001b[0m\u001b[1;33m.\u001b[0m\u001b[0mdrawcountries\u001b[0m\u001b[1;33m(\u001b[0m\u001b[0mlinewidth\u001b[0m\u001b[1;33m=\u001b[0m\u001b[1;36m0.5\u001b[0m\u001b[1;33m)\u001b[0m\u001b[1;33m\u001b[0m\u001b[0m\n\u001b[0;32m     32\u001b[0m     \u001b[0mbmap\u001b[0m\u001b[1;33m.\u001b[0m\u001b[0mdrawmapboundary\u001b[0m\u001b[1;33m(\u001b[0m\u001b[0mfill_color\u001b[0m\u001b[1;33m=\u001b[0m\u001b[1;34m'aqua'\u001b[0m\u001b[1;33m)\u001b[0m\u001b[1;33m\u001b[0m\u001b[0m\n\u001b[1;32m---> 33\u001b[1;33m     \u001b[0mbmap\u001b[0m\u001b[1;33m.\u001b[0m\u001b[0mdrawparallels\u001b[0m\u001b[1;33m(\u001b[0m\u001b[0mnp\u001b[0m\u001b[1;33m.\u001b[0m\u001b[0marange\u001b[0m\u001b[1;33m(\u001b[0m\u001b[0mlowerLeftCornerLatitude\u001b[0m\u001b[1;33m,\u001b[0m\u001b[0mupperRightCornerLatitude\u001b[0m\u001b[1;33m,\u001b[0m\u001b[1;36m.2\u001b[0m\u001b[1;33m)\u001b[0m\u001b[1;33m,\u001b[0m\u001b[0mlabels\u001b[0m\u001b[1;33m=\u001b[0m\u001b[1;33m[\u001b[0m\u001b[1;36m1\u001b[0m\u001b[1;33m,\u001b[0m\u001b[1;36m0\u001b[0m\u001b[1;33m,\u001b[0m\u001b[1;36m0\u001b[0m\u001b[1;33m,\u001b[0m\u001b[1;36m0\u001b[0m\u001b[1;33m]\u001b[0m\u001b[1;33m,\u001b[0m \u001b[0mlinewidth\u001b[0m\u001b[1;33m=\u001b[0m\u001b[1;36m0.0\u001b[0m\u001b[1;33m)\u001b[0m\u001b[1;33m\u001b[0m\u001b[0m\n\u001b[0m\u001b[0;32m     34\u001b[0m     \u001b[0mbmap\u001b[0m\u001b[1;33m.\u001b[0m\u001b[0mdrawmeridians\u001b[0m\u001b[1;33m(\u001b[0m\u001b[0mnp\u001b[0m\u001b[1;33m.\u001b[0m\u001b[0marange\u001b[0m\u001b[1;33m(\u001b[0m\u001b[0mlowerLeftCornerLongitude\u001b[0m\u001b[1;33m,\u001b[0m\u001b[0mupperRightCornerLongitude\u001b[0m\u001b[1;33m,\u001b[0m\u001b[1;36m.5\u001b[0m\u001b[1;33m)\u001b[0m\u001b[1;33m,\u001b[0m\u001b[0mlabels\u001b[0m\u001b[1;33m=\u001b[0m\u001b[1;33m[\u001b[0m\u001b[1;36m0\u001b[0m\u001b[1;33m,\u001b[0m\u001b[1;36m0\u001b[0m\u001b[1;33m,\u001b[0m\u001b[1;36m0\u001b[0m\u001b[1;33m,\u001b[0m\u001b[1;36m1\u001b[0m\u001b[1;33m]\u001b[0m\u001b[1;33m,\u001b[0m \u001b[0mlinewidth\u001b[0m\u001b[1;33m=\u001b[0m\u001b[1;36m0.0\u001b[0m\u001b[1;33m)\u001b[0m\u001b[1;33m\u001b[0m\u001b[0m\n\u001b[0;32m     35\u001b[0m \u001b[1;33m\u001b[0m\u001b[0m\n",
      "\u001b[1;31mNameError\u001b[0m: global name 'lowerLeftCornerLatitude' is not defined"
     ]
    },
    {
     "data": {
      "image/png": "[encoded data removed]",
      "text/plain": [
       "<matplotlib.figure.Figure at 0x7f15f9244050>"
      ]
     },
     "metadata": {},
     "output_type": "display_data"
    }
   ],
   "source": [
    "theta = communityLocationDF.drop(['decimalLatitude','decimalLongitude'],1)\n",
    "assert theta.shape[0] > theta.shape[1]  \n",
    "\n",
    "lowerLeftCornerLongitude  = min([float(i) for i in communityLocationDF['decimalLongitude'].values])-.1\n",
    "lowerLeftCornerLatitude   = min([float(i) for i in communityLocationDF['decimalLatitude'].values])-.1\n",
    "upperRightCornerLongitude = max([float(i) for i in communityLocationDF['decimalLongitude'].values])+.1\n",
    "upperRightCornerLatitude  = max([float(i) for i in communityLocationDF['decimalLatitude'].values])+.1\n",
    "\n",
    "x = [float(i) for i in communityLocationDF['decimalLongitude'].values]\n",
    "y = [float(i) for i in communityLocationDF['decimalLatitude'].values]\n",
    "\n",
    "bmap = w.basemapWrapper(lowerLeftCornerLongitude,lowerLeftCornerLatitude,upperRightCornerLongitude,upperRightCornerLatitude)\n",
    "\n",
    "'''sc = SpectralClustering(n_clusters = 12)\n",
    "clusterLabels = sc.fit_predict(theta)\n",
    "bmap.scatter(x,y,latlon=True,s=4,c=clusterLabels,edgecolor='',cmap='Set2_r')'''\n"
   ]
  },
  {
   "cell_type": "code",
   "execution_count": null,
   "metadata": {
    "collapsed": true
   },
   "outputs": [],
   "source": [
    "_ = plt.title('Spectral clustering by community makeup',fontsize=20)"
   ]
  },
  {
   "cell_type": "markdown",
   "metadata": {},
   "source": [
    "<h2> Distribution modeling</h2>\n",
    "<p> Now we'll go ahead and try a predictive model of species distribution. This model will have two components - a prior probability of ANY species occurring and a likelihood that if a new species were to be observed, that it would be the species that we're interested in. We'll try a couple different types of priors to see which ones give the best performance.</p>"
   ]
  },
  {
   "cell_type": "markdown",
   "metadata": {},
   "source": [
    "<h3> Selecting species to model</h3>\n",
    "<p> We would like to test this model on species which have varying rates of occurrence in the test area. To do this, we will sort the species by the number of plot locations in which they are observed and then select on this basis. </p>"
   ]
  },
  {
   "cell_type": "code",
   "execution_count": 14,
   "metadata": {
    "collapsed": false
   },
   "outputs": [],
   "source": [
    "prevalences = np.sum(presenceDF.values,axis=0)\n",
    "reversedIndices = np.argsort(prevalences)\n",
    "indices = reversedIndices[::-1]\n",
    "modeledSpecies = indices[0:20]"
   ]
  },
  {
   "cell_type": "markdown",
   "metadata": {},
   "source": [
    "<h3> Modeling with different subsets of observations</h3>"
   ]
  },
  {
   "cell_type": "code",
   "execution_count": 15,
   "metadata": {
    "collapsed": false
   },
   "outputs": [
    {
     "name": "stderr",
     "output_type": "stream",
     "text": [
      "WARNING:gensim.models.ldamodel:no word id mapping provided; initializing from corpus, assuming identity\n",
      "WARNING:gensim.models.ldamodel:no word id mapping provided; initializing from corpus, assuming identity\n",
      "WARNING:gensim.models.ldamodel:no word id mapping provided; initializing from corpus, assuming identity\n",
      "WARNING:gensim.models.ldamodel:no word id mapping provided; initializing from corpus, assuming identity\n",
      "WARNING:gensim.models.ldamodel:no word id mapping provided; initializing from corpus, assuming identity\n",
      "WARNING:gensim.models.ldamodel:no word id mapping provided; initializing from corpus, assuming identity\n",
      "WARNING:gensim.models.ldamodel:no word id mapping provided; initializing from corpus, assuming identity\n",
      "WARNING:gensim.models.ldamodel:no word id mapping provided; initializing from corpus, assuming identity\n",
      "WARNING:gensim.models.ldamodel:no word id mapping provided; initializing from corpus, assuming identity\n",
      "WARNING:gensim.models.ldamodel:no word id mapping provided; initializing from corpus, assuming identity\n",
      "WARNING:gensim.models.ldamodel:no word id mapping provided; initializing from corpus, assuming identity\n",
      "WARNING:gensim.models.ldamodel:no word id mapping provided; initializing from corpus, assuming identity\n",
      "WARNING:gensim.models.ldamodel:no word id mapping provided; initializing from corpus, assuming identity\n",
      "WARNING:gensim.models.ldamodel:no word id mapping provided; initializing from corpus, assuming identity\n",
      "WARNING:gensim.models.ldamodel:no word id mapping provided; initializing from corpus, assuming identity\n",
      "WARNING:gensim.models.ldamodel:no word id mapping provided; initializing from corpus, assuming identity\n",
      "WARNING:gensim.models.ldamodel:no word id mapping provided; initializing from corpus, assuming identity\n",
      "WARNING:gensim.models.ldamodel:no word id mapping provided; initializing from corpus, assuming identity\n",
      "WARNING:gensim.models.ldamodel:no word id mapping provided; initializing from corpus, assuming identity\n",
      "WARNING:gensim.models.ldamodel:no word id mapping provided; initializing from corpus, assuming identity\n",
      "WARNING:gensim.models.ldamodel:no word id mapping provided; initializing from corpus, assuming identity\n",
      "WARNING:gensim.models.ldamodel:no word id mapping provided; initializing from corpus, assuming identity\n",
      "WARNING:gensim.models.ldamodel:no word id mapping provided; initializing from corpus, assuming identity\n",
      "WARNING:gensim.models.ldamodel:no word id mapping provided; initializing from corpus, assuming identity\n",
      "WARNING:gensim.models.ldamodel:no word id mapping provided; initializing from corpus, assuming identity\n",
      "WARNING:gensim.models.ldamodel:no word id mapping provided; initializing from corpus, assuming identity\n",
      "WARNING:gensim.models.ldamodel:no word id mapping provided; initializing from corpus, assuming identity\n",
      "WARNING:gensim.models.ldamodel:no word id mapping provided; initializing from corpus, assuming identity\n",
      "WARNING:gensim.models.ldamodel:no word id mapping provided; initializing from corpus, assuming identity\n",
      "WARNING:gensim.models.ldamodel:no word id mapping provided; initializing from corpus, assuming identity\n",
      "WARNING:gensim.models.ldamodel:no word id mapping provided; initializing from corpus, assuming identity\n",
      "WARNING:gensim.models.ldamodel:no word id mapping provided; initializing from corpus, assuming identity\n",
      "WARNING:gensim.models.ldamodel:no word id mapping provided; initializing from corpus, assuming identity\n",
      "WARNING:gensim.models.ldamodel:no word id mapping provided; initializing from corpus, assuming identity\n",
      "WARNING:gensim.models.ldamodel:no word id mapping provided; initializing from corpus, assuming identity\n",
      "WARNING:gensim.models.ldamodel:no word id mapping provided; initializing from corpus, assuming identity\n",
      "WARNING:gensim.models.ldamodel:no word id mapping provided; initializing from corpus, assuming identity\n",
      "WARNING:gensim.models.ldamodel:no word id mapping provided; initializing from corpus, assuming identity\n",
      "WARNING:gensim.models.ldamodel:no word id mapping provided; initializing from corpus, assuming identity\n",
      "WARNING:gensim.models.ldamodel:no word id mapping provided; initializing from corpus, assuming identity\n",
      "WARNING:gensim.models.ldamodel:no word id mapping provided; initializing from corpus, assuming identity\n",
      "WARNING:gensim.models.ldamodel:no word id mapping provided; initializing from corpus, assuming identity\n",
      "WARNING:gensim.models.ldamodel:no word id mapping provided; initializing from corpus, assuming identity\n",
      "WARNING:gensim.models.ldamodel:no word id mapping provided; initializing from corpus, assuming identity\n",
      "WARNING:gensim.models.ldamodel:no word id mapping provided; initializing from corpus, assuming identity\n",
      "WARNING:gensim.models.ldamodel:no word id mapping provided; initializing from corpus, assuming identity\n",
      "WARNING:gensim.models.ldamodel:no word id mapping provided; initializing from corpus, assuming identity\n",
      "WARNING:gensim.models.ldamodel:no word id mapping provided; initializing from corpus, assuming identity\n",
      "WARNING:gensim.models.ldamodel:no word id mapping provided; initializing from corpus, assuming identity\n",
      "WARNING:gensim.models.ldamodel:no word id mapping provided; initializing from corpus, assuming identity\n",
      "WARNING:gensim.models.ldamodel:no word id mapping provided; initializing from corpus, assuming identity\n",
      "WARNING:gensim.models.ldamodel:no word id mapping provided; initializing from corpus, assuming identity\n",
      "WARNING:gensim.models.ldamodel:no word id mapping provided; initializing from corpus, assuming identity\n",
      "WARNING:gensim.models.ldamodel:no word id mapping provided; initializing from corpus, assuming identity\n",
      "WARNING:gensim.models.ldamodel:no word id mapping provided; initializing from corpus, assuming identity\n",
      "WARNING:gensim.models.ldamodel:no word id mapping provided; initializing from corpus, assuming identity\n",
      "WARNING:gensim.models.ldamodel:no word id mapping provided; initializing from corpus, assuming identity\n",
      "WARNING:gensim.models.ldamodel:no word id mapping provided; initializing from corpus, assuming identity\n",
      "WARNING:gensim.models.ldamodel:no word id mapping provided; initializing from corpus, assuming identity\n",
      "WARNING:gensim.models.ldamodel:no word id mapping provided; initializing from corpus, assuming identity\n",
      "WARNING:gensim.models.ldamodel:no word id mapping provided; initializing from corpus, assuming identity\n",
      "WARNING:gensim.models.ldamodel:no word id mapping provided; initializing from corpus, assuming identity\n",
      "WARNING:gensim.models.ldamodel:no word id mapping provided; initializing from corpus, assuming identity\n",
      "WARNING:gensim.models.ldamodel:no word id mapping provided; initializing from corpus, assuming identity\n",
      "WARNING:gensim.models.ldamodel:no word id mapping provided; initializing from corpus, assuming identity\n",
      "WARNING:gensim.models.ldamodel:no word id mapping provided; initializing from corpus, assuming identity\n",
      "WARNING:gensim.models.ldamodel:no word id mapping provided; initializing from corpus, assuming identity\n",
      "WARNING:gensim.models.ldamodel:no word id mapping provided; initializing from corpus, assuming identity\n",
      "WARNING:gensim.models.ldamodel:no word id mapping provided; initializing from corpus, assuming identity\n",
      "WARNING:gensim.models.ldamodel:no word id mapping provided; initializing from corpus, assuming identity\n",
      "WARNING:gensim.models.ldamodel:no word id mapping provided; initializing from corpus, assuming identity\n",
      "WARNING:gensim.models.ldamodel:no word id mapping provided; initializing from corpus, assuming identity\n",
      "WARNING:gensim.models.ldamodel:no word id mapping provided; initializing from corpus, assuming identity\n",
      "WARNING:gensim.models.ldamodel:no word id mapping provided; initializing from corpus, assuming identity\n",
      "WARNING:gensim.models.ldamodel:no word id mapping provided; initializing from corpus, assuming identity\n",
      "WARNING:gensim.models.ldamodel:no word id mapping provided; initializing from corpus, assuming identity\n",
      "WARNING:gensim.models.ldamodel:no word id mapping provided; initializing from corpus, assuming identity\n",
      "WARNING:gensim.models.ldamodel:no word id mapping provided; initializing from corpus, assuming identity\n",
      "WARNING:gensim.models.ldamodel:no word id mapping provided; initializing from corpus, assuming identity\n",
      "WARNING:gensim.models.ldamodel:no word id mapping provided; initializing from corpus, assuming identity\n"
     ]
    },
    {
     "name": "stdout",
     "output_type": "stream",
     "text": [
      "{(12, 0.01, 'tanh', 0): 0.72392122922535662,\n",
      " (12, 0.1, 'tanh', 0): 0.65572070338543909,\n",
      " (12, 0.25, 'tanh', 0): 0.63779994846251187,\n",
      " (12, 0.5, 'tanh', 0): 0.67294277650903289,\n",
      " (169, 0.01, 'tanh', 0): 0.77149397418952514,\n",
      " (169, 0.1, 'tanh', 0): 0.78807370853515213,\n",
      " (169, 0.25, 'tanh', 0): 0.78789570302247214,\n",
      " (169, 0.5, 'tanh', 0): 0.76742257675343795,\n",
      " (350, 0.01, 'tanh', 0): 0.72879527456032533,\n",
      " (350, 0.1, 'tanh', 0): 0.79571083519374941,\n",
      " (350, 0.25, 'tanh', 0): 0.74210616528324513,\n",
      " (350, 0.5, 'tanh', 0): 0.74418492913591872,\n",
      " (461, 0.01, 'tanh', 0): 0.66850854481854083,\n",
      " (461, 0.1, 'tanh', 0): 0.63326516505422747,\n",
      " (461, 0.25, 'tanh', 0): 0.63753770398296272,\n",
      " (461, 0.5, 'tanh', 0): 0.68316152658842944,\n",
      " (518, 0.01, 'tanh', 0): 0.6684484970807909,\n",
      " (518, 0.1, 'tanh', 0): 0.70635654860951425,\n",
      " (518, 0.25, 'tanh', 0): 0.69339208347417969,\n",
      " (518, 0.5, 'tanh', 0): 0.68902324031553441,\n",
      " (646, 0.01, 'tanh', 0): 0.68415597786925464,\n",
      " (646, 0.1, 'tanh', 0): 0.70735511060688139,\n",
      " (646, 0.25, 'tanh', 0): 0.71890955474895835,\n",
      " (646, 0.5, 'tanh', 0): 0.69844434585560633,\n",
      " (751, 0.01, 'tanh', 0): 0.73654474246647905,\n",
      " (751, 0.1, 'tanh', 0): 0.76152407485120488,\n",
      " (751, 0.25, 'tanh', 0): 0.7104030408467048,\n",
      " (751, 0.5, 'tanh', 0): 0.73700587815625573,\n",
      " (878, 0.01, 'tanh', 0): 0.67612555055269818,\n",
      " (878, 0.1, 'tanh', 0): 0.68593159842154205,\n",
      " (878, 0.25, 'tanh', 0): 0.65230647838149936,\n",
      " (878, 0.5, 'tanh', 0): 0.68890905725248464,\n",
      " (919, 0.01, 'tanh', 0): 0.65105447377249992,\n",
      " (919, 0.1, 'tanh', 0): 0.63460205773005995,\n",
      " (919, 0.25, 'tanh', 0): 0.64757739458149977,\n",
      " (919, 0.5, 'tanh', 0): 0.62955590161412522,\n",
      " (977, 0.01, 'tanh', 0): 0.63533375465170638,\n",
      " (977, 0.1, 'tanh', 0): 0.6354663861125498,\n",
      " (977, 0.25, 'tanh', 0): 0.63179263032810928,\n",
      " (977, 0.5, 'tanh', 0): 0.63066332173337569,\n",
      " (1056, 0.01, 'tanh', 0): 0.64828170744435154,\n",
      " (1056, 0.1, 'tanh', 0): 0.65090041109919583,\n",
      " (1056, 0.25, 'tanh', 0): 0.63417713756218608,\n",
      " (1056, 0.5, 'tanh', 0): 0.62762964200672477,\n",
      " (1168, 0.01, 'tanh', 0): 0.7393780226835448,\n",
      " (1168, 0.1, 'tanh', 0): 0.71192869386064395,\n",
      " (1168, 0.25, 'tanh', 0): 0.71150576399427712,\n",
      " (1168, 0.5, 'tanh', 0): 0.75168602184526478,\n",
      " (1493, 0.01, 'tanh', 0): 0.70846379016982575,\n",
      " (1493, 0.1, 'tanh', 0): 0.72382960746598035,\n",
      " (1493, 0.25, 'tanh', 0): 0.72754377995332153,\n",
      " (1493, 0.5, 'tanh', 0): 0.66619836947766675,\n",
      " (1498, 0.01, 'tanh', 0): 0.71325290264370245,\n",
      " (1498, 0.1, 'tanh', 0): 0.67972876458164477,\n",
      " (1498, 0.25, 'tanh', 0): 0.66842255264343953,\n",
      " (1498, 0.5, 'tanh', 0): 0.707523689185521,\n",
      " (1637, 0.01, 'tanh', 0): 0.70410399473283869,\n",
      " (1637, 0.1, 'tanh', 0): 0.65093946491117016,\n",
      " (1637, 0.25, 'tanh', 0): 0.64867392213511499,\n",
      " (1637, 0.5, 'tanh', 0): 0.65515371353974117,\n",
      " (1659, 0.01, 'tanh', 0): 0.62007033036227011,\n",
      " (1659, 0.1, 'tanh', 0): 0.64586476748943777,\n",
      " (1659, 0.25, 'tanh', 0): 0.62154837931819218,\n",
      " (1659, 0.5, 'tanh', 0): 0.62392968614582067,\n",
      " (1779, 0.01, 'tanh', 0): 0.59888421512026058,\n",
      " (1779, 0.1, 'tanh', 0): 0.59797418439255323,\n",
      " (1779, 0.25, 'tanh', 0): 0.64582609505341426,\n",
      " (1779, 0.5, 'tanh', 0): 0.66644743545001917,\n",
      " (1824, 0.01, 'tanh', 0): 0.6153545342212875,\n",
      " (1824, 0.1, 'tanh', 0): 0.59933412781226525,\n",
      " (1824, 0.25, 'tanh', 0): 0.66592306841353088,\n",
      " (1824, 0.5, 'tanh', 0): 0.62511739128299182,\n",
      " (2118, 0.01, 'tanh', 0): 0.71525867365089923,\n",
      " (2118, 0.1, 'tanh', 0): 0.7118252522797246,\n",
      " (2118, 0.25, 'tanh', 0): 0.74221174048988525,\n",
      " (2118, 0.5, 'tanh', 0): 0.72247583495994194,\n",
      " (2146, 0.01, 'tanh', 0): 0.6755825460670255,\n",
      " (2146, 0.1, 'tanh', 0): 0.61898002996386503,\n",
      " (2146, 0.25, 'tanh', 0): 0.69342769434018736,\n",
      " (2146, 0.5, 'tanh', 0): 0.59828991452723701}\n"
     ]
    }
   ],
   "source": [
    "estimatesDict={}\n",
    "aucDict={}\n",
    "trainFractions = [0.01,0.1,0.25,0.5]\n",
    "replicates = 1\n",
    "\n",
    "for species in modeledSpecies:\n",
    "    for fraction in trainFractions:\n",
    "        for prior_type in ['tanh']:\n",
    "            for replicate in range(0,replicates):\n",
    "                splitData,newSpeciesIndex = w.knockoutData(presenceDF.values,replicate,species, percentObservationsKept=fraction)\n",
    "                estimatesDict[(species,fraction,prior_type,replicate)] = w.sdm(splitData,22,newSpeciesIndex,prior_type=prior_type)\n",
    "                aucDict[(species,fraction,prior_type,replicate)]= roc_auc_score((presenceDF.values)[:,species].astype(int), estimatesDict[(species,fraction,prior_type,replicate)])\n",
    "            \n",
    "pprint(aucDict)"
   ]
  },
  {
   "cell_type": "code",
   "execution_count": 13,
   "metadata": {
    "collapsed": false
   },
   "outputs": [
    {
     "data": {
      "text/plain": [
       "{(12, 0.01, 'linear', 0): 0.50005827505827505,\n",
       " (12, 0.01, 'tanh', 0): 0.66994600660422532,\n",
       " (12, 0.01, 'uniform', 0): 0.68718435398377475,\n",
       " (12, 0.1, 'linear', 0): 0.50005827505827505,\n",
       " (12, 0.1, 'tanh', 0): 0.69762464785998457,\n",
       " (12, 0.1, 'uniform', 0): 0.63074316664106667,\n",
       " (12, 0.25, 'linear', 0): 0.50005827505827505,\n",
       " (12, 0.25, 'tanh', 0): 0.67640646424136652,\n",
       " (12, 0.25, 'uniform', 0): 0.67773967323207007,\n",
       " (12, 0.5, 'linear', 0): 0.50005827505827505,\n",
       " (12, 0.5, 'tanh', 0): 0.64771462747567021,\n",
       " (12, 0.5, 'uniform', 0): 0.61900795117666951,\n",
       " (518, 0.01, 'linear', 0): 0.50005791058605509,\n",
       " (518, 0.01, 'tanh', 0): 0.73411820942790573,\n",
       " (518, 0.01, 'uniform', 0): 0.66236369343605817,\n",
       " (518, 0.1, 'linear', 0): 0.50005791058605509,\n",
       " (518, 0.1, 'tanh', 0): 0.70946716425866829,\n",
       " (518, 0.1, 'uniform', 0): 0.69217783062101046,\n",
       " (518, 0.25, 'linear', 0): 0.50005791058605509,\n",
       " (518, 0.25, 'tanh', 0): 0.70119745042732029,\n",
       " (518, 0.25, 'uniform', 0): 0.71957487709897916,\n",
       " (518, 0.5, 'linear', 0): 0.50005791058605509,\n",
       " (518, 0.5, 'tanh', 0): 0.7252589236261765,\n",
       " (518, 0.5, 'uniform', 0): 0.64658180535211085,\n",
       " (1659, 0.01, 'linear', 0): 0.50005605381165918,\n",
       " (1659, 0.01, 'tanh', 0): 0.69779904406363169,\n",
       " (1659, 0.01, 'uniform', 0): 0.63890563444719717,\n",
       " (1659, 0.1, 'linear', 0): 0.50005605381165918,\n",
       " (1659, 0.1, 'tanh', 0): 0.61382531963790687,\n",
       " (1659, 0.1, 'uniform', 0): 0.59052316203044808,\n",
       " (1659, 0.25, 'linear', 0): 0.50005605381165918,\n",
       " (1659, 0.25, 'tanh', 0): 0.63156545929635444,\n",
       " (1659, 0.25, 'uniform', 0): 0.65097181066634913,\n",
       " (1659, 0.5, 'linear', 0): 0.50005605381165918,\n",
       " (1659, 0.5, 'tanh', 0): 0.6047424649409423,\n",
       " (1659, 0.5, 'uniform', 0): 0.63310019585670507,\n",
       " (2118, 0.01, 'linear', 0): 0.50006029181237188,\n",
       " (2118, 0.01, 'tanh', 0): 0.7269559793554301,\n",
       " (2118, 0.01, 'uniform', 0): 0.76460093489055869,\n",
       " (2118, 0.1, 'linear', 0): 0.50006029181237188,\n",
       " (2118, 0.1, 'tanh', 0): 0.71137624840117819,\n",
       " (2118, 0.1, 'uniform', 0): 0.69262030938546171,\n",
       " (2118, 0.25, 'linear', 0): 0.50006029181237188,\n",
       " (2118, 0.25, 'tanh', 0): 0.69529484329436642,\n",
       " (2118, 0.25, 'uniform', 0): 0.65324069171993349,\n",
       " (2118, 0.5, 'linear', 0): 0.50006029181237188,\n",
       " (2118, 0.5, 'tanh', 0): 0.73491683948958553,\n",
       " (2118, 0.5, 'uniform', 0): 0.78040204431434601,\n",
       " (2146, 0.01, 'linear', 0): 0.50005463883728551,\n",
       " (2146, 0.01, 'tanh', 0): 0.5470494844308682,\n",
       " (2146, 0.01, 'uniform', 0): 0.59525259479409964,\n",
       " (2146, 0.1, 'linear', 0): 0.50005463883728551,\n",
       " (2146, 0.1, 'tanh', 0): 0.55366812602738447,\n",
       " (2146, 0.1, 'uniform', 0): 0.56351321238060992,\n",
       " (2146, 0.25, 'linear', 0): 0.50005463883728551,\n",
       " (2146, 0.25, 'tanh', 0): 0.67506592454113468,\n",
       " (2146, 0.25, 'uniform', 0): 0.61259519425422149,\n",
       " (2146, 0.5, 'linear', 0): 0.50005463883728551,\n",
       " (2146, 0.5, 'tanh', 0): 0.61449213476078779,\n",
       " (2146, 0.5, 'uniform', 0): 0.62732510279504872}"
      ]
     },
     "execution_count": 13,
     "metadata": {},
     "output_type": "execute_result"
    }
   ],
   "source": [
    "aucDict"
   ]
  },
  {
   "cell_type": "code",
   "execution_count": 11,
   "metadata": {
    "collapsed": false
   },
   "outputs": [
    {
     "data": {
      "text/plain": [
       "array([2146, 1659,  518,   12, 2118])"
      ]
     },
     "execution_count": 11,
     "metadata": {},
     "output_type": "execute_result"
    }
   ],
   "source": [
    "modeledSpecies"
   ]
  },
  {
   "cell_type": "markdown",
   "metadata": {},
   "source": [
    "<h3> Evaluating with AUC</h3>"
   ]
  },
  {
   "cell_type": "code",
   "execution_count": 8,
   "metadata": {
    "collapsed": false
   },
   "outputs": [
    {
     "data": {
      "text/plain": [
       "{(2146,\n",
       "  0.01,\n",
       "  'uniform',\n",
       "  0): array([ 0.00913866,  0.00578396,  0.00501804, ...,  0.00839813,\n",
       "         0.00781071,  0.0117951 ])}"
      ]
     },
     "execution_count": 8,
     "metadata": {},
     "output_type": "execute_result"
    }
   ],
   "source": [
    "estimatesDict"
   ]
  },
  {
   "cell_type": "markdown",
   "metadata": {},
   "source": [
    "<h3> Making maps of suitability</h3>"
   ]
  },
  {
   "cell_type": "code",
   "execution_count": 28,
   "metadata": {
    "collapsed": false
   },
   "outputs": [
    {
     "name": "stdout",
     "output_type": "stream",
     "text": [
      "{(57, 0.01, 0): 0.66506051626607143,\n",
      " (523, 0.01, 0): 0.70357832636749218,\n",
      " (1509, 0.01, 0): 0.5566459325423615,\n",
      " (1874, 0.01, 0): 0.62908926592906012,\n",
      " (2146, 0.01, 0): 0.57137462748611301}\n"
     ]
    }
   ],
   "source": []
  },
  {
   "cell_type": "markdown",
   "metadata": {},
   "source": [
    "<h3> Comparing against maximum entropy method</h3>"
   ]
  },
  {
   "cell_type": "code",
   "execution_count": null,
   "metadata": {
    "collapsed": false
   },
   "outputs": [],
   "source": []
  },
  {
   "cell_type": "code",
   "execution_count": null,
   "metadata": {
    "collapsed": false
   },
   "outputs": [],
   "source": []
  },
  {
   "cell_type": "code",
   "execution_count": null,
   "metadata": {
    "collapsed": false
   },
   "outputs": [],
   "source": []
  },
  {
   "cell_type": "code",
   "execution_count": null,
   "metadata": {
    "collapsed": true
   },
   "outputs": [],
   "source": []
  }
 ],
 "metadata": {
  "kernelspec": {
   "display_name": "Python 2",
   "language": "python",
   "name": "python2"
  },
  "language_info": {
   "codemirror_mode": {
    "name": "ipython",
    "version": 2
   },
   "file_extension": ".py",
   "mimetype": "text/x-python",
   "name": "python",
   "nbconvert_exporter": "python",
   "pygments_lexer": "ipython2",
   "version": "2.7.11"
  }
 },
 "nbformat": 4,
 "nbformat_minor": 0
}
